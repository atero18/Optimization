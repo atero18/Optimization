{
 "cells": [
  {
   "cell_type": "markdown",
   "metadata": {},
   "source": [
    "Projet réalisé dans le cadre du module *Optimisation Discrète* de la spécialité *Génie Mathématique* à l'INSA Rennes.\n",
    "\n",
    "**Auteur** : Tangi Tassin\n",
    "\n",
    "**Version** : 3\n",
    "\n",
    "**Notebook terminé le** : 24/05/2020 (dans cette version)\n",
    "\n",
    "**Changelog** (depuis la version 2, rendu intermédiaire) :\n",
    "- Des changements de fond mineurs\n",
    "- Relecture et correction du français\n",
    "- Tentative d'implémentation de l'algorithme de Kosaraju (non terminé)"
   ]
  },
  {
   "cell_type": "markdown",
   "metadata": {},
   "source": [
    "**Objectifs principaux** :\n",
    "- Résoudre le problème du voyageur en implémentant l'algorithme de Little ;\n",
    "- Proposer et développer une programmation linéaire de ce problème ;\n",
    "- Tester ces algorithmes dans différentes conditions"
   ]
  },
  {
   "cell_type": "code",
   "execution_count": 1,
   "metadata": {},
   "outputs": [],
   "source": [
    "import numpy as np\n",
    "import pandas as pd\n",
    "from pulp import *\n",
    "import os, os.path\n",
    "from IPython.display import clear_output\n",
    "from itertools import product # Produit cartésien\n",
    "import re # Expression régulière\n",
    "from time import time # Gestion de la durée\n",
    "import matplotlib.pyplot as plt # Affichage de graphiques\n",
    "%matplotlib inline\n",
    "import seaborn as sns # Affichage amélioré des graphiques\n",
    "sns.set()\n",
    "from random import shuffle,random, seed # Aléatoire\n",
    "from sklearn.linear_model import LinearRegression # Régression linéaire"
   ]
  },
  {
   "cell_type": "markdown",
   "metadata": {},
   "source": [
    "Choix du mode de lancement de Gurobi (en fonction de votre installation) :"
   ]
  },
  {
   "cell_type": "code",
   "execution_count": 2,
   "metadata": {},
   "outputs": [],
   "source": [
    "gurobiSolv = \"GUROBI_CMD\"\n",
    "#gurobiSolv = \"GUROBI\""
   ]
  },
  {
   "cell_type": "markdown",
   "metadata": {},
   "source": [
    "Pourquoi utiliser **Numpy** et **Pandas** dans ce problème ?\n",
    "- Numpy permet de faciliter les calculs \"matriciels\" (soustraction sur toute une ligne par exemple) et de les rendre plus rapide. Des détails sont donnés plus bas\n",
    "- Pandas permet en plus de conserver aisément le nom des noeuds et ainsi de moins s'embêter avec des bijections \"numéro de noeud\" <-> \"nom de noeud\""
   ]
  },
  {
   "cell_type": "markdown",
   "metadata": {},
   "source": [
    "# Code principal"
   ]
  },
  {
   "cell_type": "markdown",
   "metadata": {},
   "source": [
    "La classe principale \"Little\" contient l'algorithme du même nom permettant de rendre le cycle hamiltonien optimal."
   ]
  },
  {
   "cell_type": "markdown",
   "metadata": {},
   "source": [
    "Ici on utilise uniquement la **matrice d'adjacence** pondérée du graphe. Le graphe est **supposé simple et connexe**, composé de **n** sommets. Dans beaucoup d'exemples le graphe sera également non-orienté mais les algorithmes fonctionnent de la même manière avec des graphes orientés.\n",
    "Pour qu'un cycle couvrant tous les sommets existe dans un graphe, il faut que celui-ci soit **fortement connexe** (on peut le prouver en supposant qu'il existe un tel cycle). Il est donc possible que les algorithmes ne trouvent pas de solution, car aucun cycle, même très grand, n'existera."
   ]
  },
  {
   "cell_type": "markdown",
   "metadata": {},
   "source": [
    "Un travail supplémentaire intéressant pourrait être de partir d'un p-graphe et de le rendre **simple** en supprimant les boucles (inutiles pour notre problème) et en gardant uniquement les arrêtes de taille minimale. Ce problème n'est pas difficile mais nécessite l'implémentation d'autres outils."
   ]
  },
  {
   "cell_type": "markdown",
   "metadata": {},
   "source": [
    "## Classe Little"
   ]
  },
  {
   "cell_type": "code",
   "execution_count": 3,
   "metadata": {},
   "outputs": [],
   "source": [
    "class Little:\n",
    "    \n",
    "    def __init__(self, dataF):\n",
    "        self.dataF = dataF\n",
    "        self.maxi = np.inf\n",
    "        \n",
    "    def reduc_matrice(df):\n",
    "        \"\"\"Réduit le df par ligne et par colonne\"\"\"\n",
    "        mat = df.values\n",
    "        dim = mat.shape\n",
    "\n",
    "        somme = 0\n",
    "        \n",
    "        # Réduction par ligne\n",
    "        for i in range(dim[0]):\n",
    "            if 0 not in mat[i,:]:\n",
    "                mini = np.inf\n",
    "                indMin = -1\n",
    "                for j in range(dim[1]):\n",
    "                    if not(np.isnan(mat[i,j])) and mat[i,j] < mini:\n",
    "                        indMin = j\n",
    "                        mini = mat[i,j]\n",
    "\n",
    "                if indMin != -1:\n",
    "                    somme += mini\n",
    "                    mat[i,:] -= mini\n",
    "\n",
    "        # Réduction par colonne\n",
    "        for j in range(dim[1]):\n",
    "            if 0 not in mat[:,j]:\n",
    "                mini = np.inf\n",
    "                indMin = -1\n",
    "                for i in range(dim[0]):\n",
    "                    if not(np.isnan(mat[i,j])) and mat[i,j] < mini:\n",
    "                        indMin = i\n",
    "                        mini = mat[i,j]\n",
    "\n",
    "                if indMin != -1 and mini != 0:\n",
    "                    somme += mini\n",
    "                    mat[:,j] -= mini\n",
    "\n",
    "        return [df,somme]\n",
    "     \n",
    "        \n",
    "    def calcul_regrets(df, ligne = None):\n",
    "        \"\"\"Calcule les regrets d'un dF\"\"\"\n",
    "        regrets = np.empty(df.shape)\n",
    "        regrets[:] = np.nan\n",
    "        \n",
    "        mat = df.values\n",
    "        dim = mat.shape\n",
    "        \n",
    "        zeros = np.argwhere(df.values == 0)\n",
    "        \n",
    "        \n",
    "        '''On peut éventuellement se restreindre aux regrets \n",
    "        d'une seule ligne afin d'éviter des calculs inutiles'''\n",
    "        if(ligne != None and ligne in df.index):\n",
    "            j = 0\n",
    "            noms = df.index\n",
    "            while(noms[j] != ligne):\n",
    "                j = j + 1\n",
    "            ligne = j\n",
    "        elif ligne not in range(dim[0]):\n",
    "            ligne = None\n",
    "        \n",
    "        \n",
    "        for k in zeros:\n",
    "            if ligne == None or k[0] == ligne:\n",
    "                regrets[k[0],k[1]] = 0\n",
    "\n",
    "                mini = np.inf\n",
    "                for i in range(dim[0]):\n",
    "                    if i != k[0] and not(np.isnan(mat[i,k[1]])) \\\n",
    "                    and mat[i,k[1]] < mini:\n",
    "                        mini = mat[i,k[1]]\n",
    "                regrets[k[0],k[1]] += mini\n",
    "\n",
    "\n",
    "                mini = np.inf\n",
    "                for j in range(dim[1]):\n",
    "                    if j != k[1] and not(np.isnan(mat[k[0],j])) \\\n",
    "                    and mat[k[0],j] < mini:\n",
    "                        mini = mat[k[0],j]\n",
    "\n",
    "                regrets[k[0],k[1]] += mini\n",
    "        \n",
    "        if ligne == None:\n",
    "            return pd.DataFrame(regrets,index=df.index,\n",
    "                                columns=df.columns)\n",
    "        \n",
    "        else:\n",
    "            regrets = regrets[ligne,:]\n",
    "            return regrets\n",
    "    \n",
    "    \n",
    "    def del_ligne_col(df,i,j):\n",
    "        \"\"\"Supprime la ligne i et la colonne j\n",
    "         de df (retourne une copie)\"\"\"\n",
    "        return df.drop(index = i, columns = j)\n",
    "    \n",
    "    \n",
    "    \n",
    "    def little(self, df, liste, cout):\n",
    "        \"Algorithme récursif de Little (O(e^n))\"\n",
    "        #Gestion préalable des types d'entrées\n",
    "        if not(isinstance(liste,list)):\n",
    "            liste = [liste]\n",
    "        \n",
    "        # Elimination des sous-tournées\n",
    "        if(len(liste) > 1):\n",
    "            df.loc[liste[-1],liste[0]] = np.nan\n",
    "        \n",
    "        '''Réduction de la matrice et \n",
    "        obtention du cout supplémentaire'''\n",
    "        [df,coutSupp] = Little.reduc_matrice(df)\n",
    "        cout += coutSupp\n",
    "        \n",
    "        # Si le cout dépasse le max on arrête cette branche\n",
    "        if(cout >= self.maxi):\n",
    "            del df, liste, cout\n",
    "            return None\n",
    "        \n",
    "        \n",
    "        '''Si la matrice est de taille 2*2 cela \n",
    "        signifie qu'il ne reste que le retour'''\n",
    "        if(len(df) == 2):\n",
    "            self.maxi = cout\n",
    "            return liste + list(set(df.index) & \n",
    "                                set(df.columns)) + [liste[0]]\n",
    "        \n",
    "        elif(len(df) <= 1):\n",
    "            print(\"nbligne\")\n",
    "            del df, liste, cout\n",
    "            return None\n",
    "        \n",
    "        \n",
    "        '''Sinon on calcule le chemin supposé optimal\n",
    "        en trouvant le regret max'''\n",
    "        reg = Little.calcul_regrets(df,liste[-1])\n",
    "        j = -1\n",
    "        regMax = -1\n",
    "        for k in range(len(reg)):\n",
    "            if not(np.isnan(reg[k])) and reg[k] > regMax:\n",
    "                regMax = reg[k]\n",
    "                j = k\n",
    "        \n",
    "        \n",
    "        # S'il n'y a aucun regret on arrête cette branche\n",
    "        if j == -1:\n",
    "            del df, liste, cout\n",
    "            print(\"regrets\")\n",
    "            return None\n",
    "        \n",
    "        # Sinon on prend le nouveau chemin vers 'j'\n",
    "        j = df.columns[j]\n",
    "        df1 = Little.del_ligne_col(df,liste[-1],j)\n",
    "        val1 = self.little(df1,liste + [j],cout)\n",
    "\n",
    "\n",
    "        # Et on ne \"prend pas\" le nouveau chemin vers 'j'\n",
    "        '''Si le nouveau cout (cout + regret) est plus grand \n",
    "        que le maxi on arrête la branche'''\n",
    "        if cout + regMax >= self.maxi:\n",
    "            val2 = None\n",
    "        \n",
    "        else:\n",
    "            '''A noter qu'ici df2 est littéralement df, \n",
    "            (même adresse) mais cela n'a pas d'importance'''\n",
    "            df2 = df\n",
    "            df2.loc[liste[-1],j] = np.nan\n",
    "            val2 = self.little(df2, liste,cout)\n",
    "            \n",
    "        \n",
    "        del df, liste, cout\n",
    "        \n",
    "        if(val2 != None):\n",
    "            return val2\n",
    "        \n",
    "        else:\n",
    "            return val1\n",
    "        \n",
    "    def solve(self, depart=None):\n",
    "        \"\"\"Fonction de démarrage de l'algorithme\"\"\"\n",
    "        df = self.dataF.copy()\n",
    "        self.maxi = np.inf\n",
    "        if(depart == None or (depart not in df.columns)):\n",
    "            liste = [df.columns[0]]\n",
    "        else:\n",
    "            liste = [depart]\n",
    "        return [self.little(df, liste, 0),self.maxi]"
   ]
  },
  {
   "cell_type": "markdown",
   "metadata": {},
   "source": [
    "L'algotirhme de *Little* codé ici est basé sur le pseudo-code proposé dans le document \"*voyageur de commerce*\" joint au Projet d'Optimisation discrète ainsi que sur un cours d'introduction aux méthodes *Branch & Bound* de l'école *ISEN Lilles*. L'algorithme est ici codé en **récursif** : cela permet de rendre le programme **plus rapide** mais éventuellement **gourmand en ressource mémoire**. Pour cette raison la branche supposée \"optimale\" est calculée en premier afin de réduire le plus possible le nombre de branches suivantes à déterminer. De plus les variables sont régulièrement supprimées afin d'économiser de l'espace mémoire."
   ]
  },
  {
   "cell_type": "markdown",
   "metadata": {},
   "source": [
    "Il est à noter que le code des fonctions en lien avec l'algorithme de Little peut sembler redondant : mise en mémoire de l'adresse des valeurs du dataFrame alors que l'on aurait pu récupérer ces valeurs à chaque calcul. Cependant il s'avère que ce code est le plus efficace que j'ai pu écrire pour ce problème. En effet :\n",
    "- Si l'on passe par les valeurs sous Pandas plutôt que sous Numpy, les calculs deviennent considérablement plus long (chez moi une résolution passant par exemple de 20 à 50 secondes)\n",
    "- Le stockage des ensembles (range, product...) donne un code plus propre mais rend également les calculs beaucoup plus long, jusqu'à une perte de 20 secondes quand les ensembles sont grands."
   ]
  },
  {
   "cell_type": "markdown",
   "metadata": {},
   "source": [
    "## Classe Programmation Linéaire"
   ]
  },
  {
   "cell_type": "code",
   "execution_count": 4,
   "metadata": {},
   "outputs": [],
   "source": [
    " class PL_voyage:\n",
    "\n",
    "    def __init__(self,dataF):\n",
    "        self.dataF = dataF\n",
    "\n",
    "        self.sous_tour = []\n",
    "        self.P = dataF.values # Matrice des poids\n",
    "        self.X = [] # Matrice des variables binaires\n",
    "        self.declaration_vars() # Création des variables\n",
    "    \n",
    "    def declaration_vars(self):\n",
    "        n = self.P.shape[0]\n",
    "        for i in range(n):\n",
    "            self.X += [list(range(n))]\n",
    "            for j in range(n):\n",
    "                # Si l'arrête n'existe pas, on ne créé pas de variable\n",
    "                if np.isnan(self.P[i][j]):\n",
    "                    self.X[i][j] = 0\n",
    "\n",
    "                #Sinon on en créé une nouvelle\n",
    "                else:\n",
    "                    nom = str(i) + \"_\" + str(j)\n",
    "                    self.X[i][j] = LpVariable(name = nom,cat='Binary')\n",
    "\n",
    "        \n",
    "    def solve(self, depart = None, solv=None, protocole=\"sc\"):\n",
    "        \n",
    "        n = self.P.shape[0]\n",
    "        prob = LpProblem(\"Voyageur_de_commerce\",LpMinimize)\n",
    "\n",
    "        if solv == \"GUROBI_CMD\":\n",
    "            os.environ['LD_LIBRARY_PATH'] = ':' + os.environ['GUROBI_HOME'] + \"/lib\"\n",
    "            solveur = GUROBI_CMD()\n",
    "        elif solv == \"GUROBI\":\n",
    "            solveur = GUROBI()\n",
    "        else:\n",
    "            solveur=solv\n",
    "        \n",
    "        if protocole not in [\"sc\",\"MTZ\"]:\n",
    "            return None\n",
    "        \n",
    "        prob += lpSum(self.X[i][j]*self.P[i][j] for i,j \\\n",
    "                      in product(range(n),range(n)) \\\n",
    "                      if not(np.isnan(self.P[i][j]))), \"Fonction_à_minimiser\"\n",
    "\n",
    "        # Condition 1\n",
    "        for i in range(n):\n",
    "            prob += lpSum(self.X[i][j] for j in range(n)) == 1\n",
    "            prob += lpSum(self.X[j][i] for j in range(n)) == 1\n",
    "            \n",
    "         \n",
    "        # Ajout de conditions en fonction du protocole choisi\n",
    "        if protocole == \"sc\":\n",
    "            if len(self.sous_tour) != 0:\n",
    "                # Condition 2 (si sous-cycle.s détecté.s)\n",
    "                for k in range(len(self.sous_tour)):\n",
    "                    prob += lpSum(self.X[p[0]][p[1]] \n",
    "                                  for p in self.sous_tour[k]) <= \\\n",
    "                                    len(self.sous_tour[k]) - 1\n",
    "            # Condition 3\n",
    "            for i,j in product(range(n),range(n)):\n",
    "                if not(np.isnan(self.P[i][j]))and not(np.isnan(self.P[j][i])):\n",
    "                    prob += self.X[i][j] <= 1 - self.X[j][i]\n",
    "    \n",
    "        elif protocole == \"MTZ\":\n",
    "            # Condition 2\n",
    "            U = list(range(n))\n",
    "            U[0] = 1\n",
    "            for i in range(1,n):\n",
    "                U[i] = LpVariable(name=\"U\" + str(i), cat='Integer')\n",
    "                prob += 2 <= U[i] <= n, \"Condition 2 (MTZ) U\" + str(i)\n",
    "            for i,j in product(range(1,n),range(1,n)):\n",
    "                if i != j and not(np.isnan(self.P[i][j])) \\\n",
    "                and not(np.isnan(self.P[j][i])):\n",
    "                    prob += U[i] - U[j] + (n - 1)*self.X[i][j] \\\n",
    "                            + (n - 3)*self.X[j][i] <= n-2\n",
    "\n",
    "\n",
    "        '''Appel du solveur et renvoi d'une \n",
    "        solution si le statut est \"Optimal\"'''\n",
    "        prob.solve(solver=solveur)        \n",
    "        if LpStatus[prob.status] != \"Optimal\":\n",
    "            return LpStatus[prob.status]\n",
    "\n",
    "        '''Verification qu'il n'y a pas de sous-cycle (cas sc)\n",
    "        et Ecriture dans l'ordre des sommets à traverser'''\n",
    "        noms = self.dataF.columns\n",
    "        iDep = 0\n",
    "        arretes = []\n",
    "        if depart == None or depart not in noms:\n",
    "            liste = [noms[0]]\n",
    "        else:\n",
    "            liste = [depart]\n",
    "            while(noms[iDep] != depart):\n",
    "                iDep += 1\n",
    "\n",
    "        i = iDep\n",
    "        while(len(liste) < n):\n",
    "            j = 0\n",
    "\n",
    "            while np.isnan(self.P[i][j]) or not(0.8 <= self.X[i][j].varValue <= 1.5):\n",
    "                j += 1\n",
    "                if(j == len(self.P[i])):\n",
    "                    return \"Fail\"\n",
    "\n",
    "            arretes += [(i,j)]\n",
    "\n",
    "            '''Si jamais il y a un sous-cycle on relance \n",
    "            le solveur avec une condition supplémentaire'''\n",
    "            if protocole == \"sc\" and noms[j] in liste:\n",
    "                self.sous_tour += [arretes]\n",
    "\n",
    "                del i, j, liste, prob\n",
    "                return self.solve(depart,solv,\"sc\")\n",
    "\n",
    "            liste += [noms[j]]\n",
    "            i = j\n",
    "\n",
    "        return [liste + [liste[0]],value(prob.objective)]"
   ]
  },
  {
   "cell_type": "markdown",
   "metadata": {},
   "source": [
    "La programmation linéaire est réalisée avec le package *PuLP*. Le solveur par défaut étant *CBC* (solveur de *PuLP*), mais un autre solveur peut être entré si l'utilisateur le souhaite.\n",
    "\n",
    "Pour résoudre ce problème nous utiliserons les deux matrices d'ordre n suivantes :\n",
    "- La \"**matrice des variables**\" **X** qui contient au plus n(n-1) variables, toutes binaires. Si l'arrête (i,j) existe, X[i][j] vaut 1 si elle est utilisée dans le cycle, 0 sinon.\n",
    "- La \"**matrice des Poids**\" **P** contenant les poids des différentes arrêtes. Par exemple P[i][j] contient le poids de l'arrête allant du sommet i au sommet j, si elle existe (la valeur *NaN* sinon).\n",
    "\n",
    "La fonction à minimiser étant donc : $$\\sum_{0 \\leq i\\ne j \\leq n-1} P[i][j]*X[i][j]$$\n",
    "\n",
    "Cette fonction étant à minimiser sous certaines conditions, ces conditions étant celles pour avoir un cycle comprenant tous les sommets. On peut traduire ces conditions par les suivantes, ré-écrivables sous forme linéaire :\n",
    "\n",
    "- (1) chaque sommet servira une fois de but et une fois d'origine ;\n",
    "- (2) Il ne doit pas y avoir de sous-cycle (contrainte linéaire de *Miller, Tucker, Zemlin* ou observation de sous-cycle a posteriori).\n",
    "\n",
    "La condition (2) étant la plus complexe à implémenter."
   ]
  },
  {
   "cell_type": "markdown",
   "metadata": {},
   "source": [
    "Pour la seconde contrainte, deux protocoles sont proposés dans le code :\n",
    "- protocole \"**sc**\" (\"sous-cycle\", protocole par défaut) : les sous-cycles sont détectés *a posteriori*. S'il existe un sous-cycle, on ajoute une condition linéaire pour le supprimer et on relance le solveur. Ce protocole, bien que souvent moins optimal que le suivant, est mis par défaut car c'est celui que j'ai intégré naturellement. Une troisième condition est intégrée à ce code afin d'éviter les sous-cycles \"évidents\" : (3) Si l'arrête (i,j) a été empruntée, l'arrête (j,i) ne pourra pas l'être (un sommet ne peut être but et origine pour un autre sommet).\n",
    "- protocole \"**MTZ**\" (\"Miller–Tucker–Zemlin\"), qui garanti *a priori* la non présence de sous-cycle. Cette contrainte est souvent plus optimale. La condition (3) indiquée précédemment n'a pas besoin d'être intégrée dans ce cas.\n",
    "\n",
    "Comme on pourra le voir dans la phase de tests, les deux protocoles ont leurs avantages en fonction des données du graphe."
   ]
  },
  {
   "cell_type": "markdown",
   "metadata": {},
   "source": [
    "## Autres fonctions"
   ]
  },
  {
   "cell_type": "markdown",
   "metadata": {},
   "source": [
    "La fonction ci-dessous permet de lire un fichier et de le transformer en matrice d'adjacence. Les noms des noeuds sont conservés."
   ]
  },
  {
   "cell_type": "code",
   "execution_count": 5,
   "metadata": {},
   "outputs": [],
   "source": [
    "def fileToDf(url,random=True):\n",
    "    \n",
    "    if not(os.path.isfile(url)):\n",
    "        print(\"Aucun fichier trouvé\")\n",
    "        return\n",
    "    f = open(url, \"r\")\n",
    "    dataF = pd.DataFrame()\n",
    "    \n",
    "    regexp = re.compile(\"([\\w\\-\\s]+)(<?->)([\\w\\-\\s]+):(\\d+)\")\n",
    "    l = f.readline()\n",
    "    while l:\n",
    "        result = regexp.search(l)\n",
    "        if result != None:\n",
    "            dataF.loc[result.group(1),result.group(3)] = float(result.group(4))\n",
    "            if(result.group(2) == \"<->\"):\n",
    "                dataF.loc[result.group(3),result.group(1)] = float(result.group(4))\n",
    "        l = f.readline()\n",
    "    \n",
    "    for i in dataF.index:\n",
    "        if i not in dataF.columns:\n",
    "            dataF.loc[:,i] = np.nan\n",
    "    for j in dataF.columns:\n",
    "        if j not in dataF.index:\n",
    "            dataF.loc[j,:] = np.nan\n",
    "            \n",
    "    if random:\n",
    "        order = list(range(len(dataF)))\n",
    "        shuffle(order)\n",
    "        dataF = dataF.iloc[order,:]\n",
    "        \n",
    "    dataF = dataF.loc[:,dataF.index]\n",
    "    return dataF"
   ]
  },
  {
   "cell_type": "markdown",
   "metadata": {},
   "source": [
    "La fonction ci-dessous permet de générer un graphe constitué d'un certain nombre de noeuds, orienté ou non, avec des valeurs aléatoires pour les arrêtes."
   ]
  },
  {
   "cell_type": "code",
   "execution_count": 6,
   "metadata": {},
   "outputs": [],
   "source": [
    "def creation_graphe_alea(n=40,oriente=False, dMax = 100):\n",
    "    seed(time())\n",
    "    mat = np.zeros((n,n))\n",
    "    mat += np.nan\n",
    "    for i,j in product(range(0,n),range(0,n)):\n",
    "        if i != j and np.isnan(mat[i][j]):\n",
    "            mat[i][j] = 1 + int(random()*dMax)\n",
    "        if not(oriente):\n",
    "            mat[j][i] = mat[i][j]\n",
    "            \n",
    "    liste = []\n",
    "    for i in range(n):\n",
    "        liste += [str(i)]\n",
    "    return pd.DataFrame(mat, index=liste, columns=liste)"
   ]
  },
  {
   "cell_type": "markdown",
   "metadata": {},
   "source": [
    "Les fonctions ci-dessous permettent de charger et mettre à jour des fichiers contenant des tests d'exécution de la programmation linéaire."
   ]
  },
  {
   "cell_type": "markdown",
   "metadata": {},
   "source": [
    "Dans la première version seul le temps cumulé était enregistré dans le fichier (avec le nombre d'itérations). J'ai réalisé plus tard que cela ne permettait pas de repérer et de supprimer les cas \"exceptionnels\" (durée excessivement longue par exemple) non représentatifs des résultats. Dans la version actuelle, chaque itération est enregistrée dans le fichier. On peut donc par lecture remarquer les éventuels extrema et si besoin les supprimer."
   ]
  },
  {
   "cell_type": "code",
   "execution_count": 7,
   "metadata": {},
   "outputs": [],
   "source": [
    "def lecture_fichier_PL(nomF, retourMoyenne=True):\n",
    "    '''Recherche les données temporelles pour la réalisation des PL\n",
    "    selon différents solveurs\n",
    "    '''\n",
    "\n",
    "    '''retourMoyenne : Vrai si on renvoi la moyenne empirique des données'''\n",
    "    if not(os.path.isfile(nomF)):\n",
    "        print(\"Aucun fichier trouvé\")\n",
    "        return\n",
    "\n",
    "    file = open(nomF, 'r')\n",
    "    n = file.readline().split(',')\n",
    "    for i in range(len(n)):\n",
    "        n[i] = int(n[i])\n",
    "    n = np.array(n)\n",
    "\n",
    "    cbcLect = {\"sc\" : [0]*len(n), \"scNB\" : [0]*len(n), \"MTZ\" : [0]*len(n), \"MTZNB\" : [0]*len(n)}\n",
    "    gurobiLect = {\"sc\" : [0]*len(n), \"scNB\" : [0]*len(n), \"MTZ\" : [0]*len(n), \"MTZNB\" : [0]*len(n)}\n",
    "\n",
    "    ligne = file.readline()\n",
    "    while ligne:\n",
    "        if ':' in ligne:\n",
    "            nomData = ligne.split(':')[0]\n",
    "            data = ligne.split(':')[1].split(',')\n",
    "            for i in range(len(data)):\n",
    "                numb = round(float(data[i]),4)\n",
    "                if numb != 0:\n",
    "                    if nomData == \"CBC-SC\":\n",
    "                        cbcLect[\"sc\"][i] += numb\n",
    "                        cbcLect[\"scNB\"][i] += 1\n",
    "                    elif nomData == \"CBC-MTZ\":\n",
    "                        cbcLect[\"MTZ\"][i] += numb\n",
    "                        cbcLect[\"MTZNB\"][i] += 1\n",
    "                    elif nomData == \"GUROBI-SC\":\n",
    "                        gurobiLect[\"sc\"][i] += numb\n",
    "                        gurobiLect[\"scNB\"][i] += 1\n",
    "                    elif nomData == \"GUROBI-MTZ\":\n",
    "                        gurobiLect[\"MTZ\"][i] += numb\n",
    "                        gurobiLect[\"MTZNB\"][i] += 1\n",
    "        ligne = file.readline()\n",
    "\n",
    "\n",
    "    cbcLect[\"sc\"] = np.array(cbcLect[\"sc\"], dtype=np.float)\n",
    "    cbcLect[\"scNB\"] = np.array(cbcLect[\"scNB\"])\n",
    "    cbcLect[\"MTZ\"] = np.array(cbcLect[\"MTZ\"], dtype=np.float)\n",
    "    cbcLect[\"MTZNB\"] = np.array(cbcLect[\"MTZNB\"])\n",
    "\n",
    "    gurobiLect[\"sc\"] = np.array(gurobiLect[\"sc\"], dtype=np.float)\n",
    "    gurobiLect[\"scNB\"] = np.array(gurobiLect[\"scNB\"])\n",
    "    gurobiLect[\"MTZ\"] = np.array(gurobiLect[\"MTZ\"], dtype=np.float)\n",
    "    gurobiLect[\"MTZNB\"] = np.array(gurobiLect[\"MTZNB\"])\n",
    "\n",
    "    '''Dans le cas où aucune donnée n'est disponible pour un nombre de noeuds\n",
    "    on \"supprime\" le noeud en question'''\n",
    "    for i in range(len(n)):\n",
    "        if cbcLect[\"scNB\"][i] == 0:\n",
    "            cbcLect[\"sc\"][i] = np.nan\n",
    "        if cbcLect[\"MTZNB\"][i] == 0:\n",
    "            cbcLect[\"MTZ\"][i] = np.nan\n",
    "        if gurobiLect[\"scNB\"][i] == 0:\n",
    "            gurobiLect[\"sc\"][i] = np.nan\n",
    "        if gurobiLect[\"MTZNB\"][i] == 0:\n",
    "            gurobiLect[\"MTZ\"][i] = np.nan\n",
    "\n",
    "    if retourMoyenne:\n",
    "        cbcLect[\"sc\"] /= cbcLect[\"scNB\"]\n",
    "        cbcLect[\"MTZ\"] /= cbcLect[\"MTZNB\"]\n",
    "        gurobiLect[\"sc\"] /= gurobiLect[\"scNB\"]\n",
    "        gurobiLect[\"MTZ\"] /= gurobiLect[\"MTZNB\"]\n",
    "\n",
    "    return [n,cbcLect,gurobiLect]"
   ]
  },
  {
   "cell_type": "markdown",
   "metadata": {},
   "source": [
    "Cette fonction permet d'enregistrer les données d'analyse temporelle."
   ]
  },
  {
   "cell_type": "code",
   "execution_count": 8,
   "metadata": {},
   "outputs": [],
   "source": [
    "def enregistrement_donnees_pl(nomFichier,n,cbcCalcul=None,gurobiCalcul=None):\n",
    "    \n",
    "    \n",
    "    if cbcCalcul == None and gurobiCalcul == None:\n",
    "        return\n",
    "    \n",
    "    '''Pour éviter de rajouter des lignes de 0 inutiles et\n",
    "    qui entacheraient les résultats'''\n",
    "    if cbcCalcul != None:\n",
    "        cbcFile = {\"sc\" : \"CBC-SC:\", \"MTZ\" : \"CBC-MTZ:\"}\n",
    "        if sum(cbcCalcul[\"sc\"]) == 0:\n",
    "            cbcCalcul[\"sc\"] = None\n",
    "        if sum(cbcCalcul[\"MTZ\"]) == 0:\n",
    "            cbcCalcul[\"MTZ\"] = None\n",
    "            \n",
    "    if gurobiCalcul != None:\n",
    "        gurobiFile = {\"sc\" : \"GUROBI-SC:\", \"MTZ\" : \"GUROBI-MTZ:\"}\n",
    "        if sum(gurobiCalcul[\"sc\"]) == 0:\n",
    "            gurobiCalcul[\"sc\"] = None\n",
    "\n",
    "        if sum(gurobiCalcul[\"MTZ\"]) == 0:\n",
    "            gurobiCalcul[\"MTZ\"] = None\n",
    "    finL = \",\"\n",
    "    chaineN = \"\"\n",
    "    for i in range(len(n)-1):\n",
    "         chaineN += str(n[i]) + finL\n",
    "            \n",
    "    chaineN += str(n[-1])\n",
    "    \n",
    "    \n",
    "    if os.path.isfile(nomFichier):\n",
    "        file = open(nomFichier, \"r+\")\n",
    "        '''Si les noeuds stockés dans le fichier actuel ne \n",
    "        sont pas les mêmes que ceux proposés on change de fichier'''\n",
    "        if file.readline() != chaineN + \"\\n\":\n",
    "            file.close()\n",
    "            print(\"\\nErreur, le fichier ne contient pas les bons noeuds !\" + \n",
    "                  \"Enregistrement dans un autre fichier\")\n",
    "            if '.' in nomFichier:\n",
    "                nomFichier = '.'.join(nomFichier.split('.')[:-1]) + \"_bis.\" + nomFichier.split('.')[-1]\n",
    "            return enregistrement_donnees_pl(nomFichier,n,cbcCalcul,gurobiCalcul)\n",
    "        else:\n",
    "            file = open(nomFichier, \"a\")\n",
    "            \n",
    "    else:\n",
    "        file = open(nomFichier,\"w\")\n",
    "        file.write(chaineN + \"\\n\")            \n",
    "    \n",
    "    \n",
    "    for i in range(len(n)):\n",
    "        if i == len(n) - 1:\n",
    "            finL = \"\"\n",
    "\n",
    "        if cbcCalcul != None:\n",
    "            if cbcCalcul[\"sc\"] is not None:\n",
    "                cbcFile[\"sc\"] += str(cbcCalcul[\"sc\"][i]) + finL\n",
    "            \n",
    "            if cbcCalcul[\"MTZ\"] is not None:\n",
    "                cbcFile[\"MTZ\"] += str(cbcCalcul[\"MTZ\"][i]) + finL\n",
    "        \n",
    "        if gurobiCalcul != None:\n",
    "            if gurobiCalcul[\"sc\"] is not None:\n",
    "                gurobiFile[\"sc\"] += str(gurobiCalcul[\"sc\"][i]) + finL\n",
    "                \n",
    "            if gurobiCalcul[\"MTZ\"] is not None:\n",
    "                gurobiFile[\"MTZ\"] += str(gurobiCalcul[\"MTZ\"][i]) + finL\n",
    "            \n",
    "    \n",
    "    if cbcCalcul != None:\n",
    "        if cbcCalcul[\"sc\"] != None:\n",
    "            file.write(cbcFile[\"sc\"] + \"\\n\")\n",
    "        if cbcCalcul[\"MTZ\"] != None:\n",
    "            file.write(cbcFile[\"MTZ\"] + \"\\n\")\n",
    "    if gurobiCalcul != None:\n",
    "        if gurobiCalcul[\"sc\"] != None:\n",
    "            file.write(gurobiFile[\"sc\"] + \"\\n\")\n",
    "        if gurobiCalcul[\"MTZ\"] != None:\n",
    "            file.write(gurobiFile[\"MTZ\"] + \"\\n\")\n",
    "    file.close()\n",
    "    return nomFichier"
   ]
  },
  {
   "cell_type": "markdown",
   "metadata": {},
   "source": [
    "La fonction ci-dessous permet de déterminer le temps nécessaire au solveur (e.g. CBC et/ou Gurobi) pour trouver une solution pour un certain nombre de noeuds."
   ]
  },
  {
   "cell_type": "code",
   "execution_count": 9,
   "metadata": {},
   "outputs": [],
   "source": [
    "def test_temporel_PL(nomFichier,n,nbBoucles,doCbc=['sc','MTZ'], doGurobi=['sc','MTZ'],affichage='liste'):\n",
    "    '''\n",
    "    doCBC : None si aucun calcul ne doit être fait sous CBC\n",
    "            sinon indiquer le ou les protocoles à mesurer (doCbc=['sc', 'MTZ'])\n",
    "    doGurobi : None si aucun calcul ne doit être fait sous Gurobi\n",
    "            sinon indiquer le ou les protocoles à mesurer\n",
    "    '''\n",
    "    \n",
    "    \n",
    "    for k in range(nbBoucles):\n",
    "        infoDepart = \"tour \" + str(k+1) +  \"/\" +str(nbBoucles) + \" :\"\n",
    "        dataF = creation_graphe_alea(max(n))\n",
    "        \n",
    "        clear_output(True)\n",
    "        \n",
    "        if doCbc is not None:\n",
    "            cbcCalcul = {'sc' : [0]*len(n), 'MTZ' : [0]*len(n)}\n",
    "        else:\n",
    "            cbcCalcul = None\n",
    "        \n",
    "        if doGurobi is not None:\n",
    "            gurobiCalcul = {'sc' : [0]*len(n), 'MTZ' : [0]*len(n)}\n",
    "        else:\n",
    "            gurobiCalcul = None\n",
    "        \n",
    "        print(infoDepart,end=\"\")\n",
    "        \n",
    "        for i in range(len(n)):\n",
    "            size = n[i]\n",
    "            if affichage == \"liste\":\n",
    "                print(size, end=\" \")\n",
    "                \n",
    "            elif affichage == \"ratio\":\n",
    "                clear_output(True)\n",
    "                print(infoDepart, str(i+1), \"/\", str(len(n)), sep=\" \",end=\"\")\n",
    "                \n",
    "            d = dataF.iloc[:size,:size]\n",
    "\n",
    "            # Partie CBC\n",
    "            if doCbc is not None:\n",
    "                if 'sc' in doCbc:\n",
    "                    p = PL_voyage(d)\n",
    "                    s = time()\n",
    "                    res = p.solve(protocole=\"sc\",solv=None)\n",
    "                    s = round(time() - s,4)\n",
    "                    if isinstance(res,str):\n",
    "                        print(\"UNS-CBC (sc)\",end = \" \")\n",
    "                    else:\n",
    "                        cbcCalcul['sc'][i] += s\n",
    "                \n",
    "                if 'MTZ' in doCbc:\n",
    "                    p = PL_voyage(d)\n",
    "                    s = time()\n",
    "                    res = p.solve(protocole=\"MTZ\",solv=None)\n",
    "                    s = round(time() - s,4)\n",
    "                    if isinstance(res,str):\n",
    "                        print(\"UNS-CBC (MTZ)\",end = \" \")\n",
    "                    else:\n",
    "                        cbcCalcul['MTZ'][i] += s\n",
    "\n",
    "            # Partie GUROBI\n",
    "            if doGurobi is not None:\n",
    "                if 'sc' in doGurobi:\n",
    "                    p = PL_voyage(d)\n",
    "                    s = time()\n",
    "                    res = p.solve(protocole=\"sc\",solv=gurobiSolv)\n",
    "                    s = round(time() - s,4)\n",
    "                    if isinstance(res,str):\n",
    "                        print(\"UNS-GUROBI (sc)\", end = \" \")\n",
    "                    else:\n",
    "                        gurobiCalcul['sc'][i] += s\n",
    "                \n",
    "                if 'MTZ' in doGurobi:\n",
    "                    p = PL_voyage(d)\n",
    "                    s = time()\n",
    "                    res = p.solve(protocole=\"MTZ\",solv=gurobiSolv)\n",
    "                    s = round(time() - s,4)\n",
    "                    if isinstance(res,str):\n",
    "                        print(\"UNS-GUROBI (MTZ)\", end = \" \")\n",
    "                    else:\n",
    "                        gurobiCalcul['MTZ'][i] += s\n",
    "                        \n",
    "                print(\"|\",end=\" \")\n",
    "                \n",
    "        nomFichier = enregistrement_donnees_pl(nomFichier, n, cbcCalcul,gurobiCalcul)\n",
    "        print(\"\")\n",
    "\n",
    "    print(\"Données enregistrées dans le fichier : \" + nomFichier)\n",
    "    print(\"\\nTerminé\")\n",
    "    return nomFichier"
   ]
  },
  {
   "cell_type": "markdown",
   "metadata": {},
   "source": [
    "Fonction permettant d'afficher l'efficacité temporelle de la programmation linéaire."
   ]
  },
  {
   "cell_type": "code",
   "execution_count": 10,
   "metadata": {},
   "outputs": [],
   "source": [
    "def fig_PL(n,cbc=None,gurobi=None):\n",
    "    \n",
    "    tailleTitre = 20\n",
    "    tailleLabels = 17\n",
    "    \n",
    "    if cbc == None and gurobi == None:\n",
    "        return\n",
    "    \n",
    "    elif cbc == None or gurobi == None:\n",
    "        fig = plt.figure()\n",
    "        nb = 1\n",
    "    \n",
    "    else:\n",
    "        fig = plt.figure(figsize=(20,7))\n",
    "        nb = 2\n",
    "    \n",
    "    print(\"le nombre d'itérations pour chaque méthode est indiqué dans la légende.\\n\")\n",
    "    if cbc != None:\n",
    "        if nb == 2:\n",
    "            fig.add_subplot(1,2,1)\n",
    "        \n",
    "        plt.title(\"Efficacité temporelle de la P.L. (CBC)\",fontsize=tailleTitre)\n",
    "        if not np.all(np.isnan(cbc['sc'])):\n",
    "            nbIter = np.nanmax(cbc['scNB'])\n",
    "            plt.scatter(n,cbc['sc'], label=\"sc - a posteriori ({})\".format(nbIter))\n",
    "        if not np.all(np.isnan(cbc['MTZ'])):\n",
    "            nbIter = np.nanmax(cbc['MTZNB'])\n",
    "            plt.scatter(n,cbc['MTZ'], label=\"MTZ - a priori ({})\".format(nbIter))\n",
    "        plt.legend()\n",
    "        plt.xlabel(\"Nombre de sommets\", fontSize = tailleLabels)\n",
    "        ax = plt.ylabel(\"Temps de résolution (s)\", fontSize = tailleLabels)\n",
    "            \n",
    "        \n",
    "    if gurobi != None:\n",
    "        \n",
    "        if nb == 2:\n",
    "            fig.add_subplot(1,2,2)\n",
    "            \n",
    "        plt.title(\"Efficacité temporelle de la P.L. (Gurobi)\",fontsize=tailleTitre)\n",
    "        if not np.all(np.isnan(gurobi['sc'])):\n",
    "            nbIter = np.nanmax(gurobi['scNB'])\n",
    "            plt.scatter(n,gurobi['sc'], label=\"sc - a posteriori ({})\".format(nbIter))\n",
    "        if not np.all(np.isnan(gurobi['MTZ'])):\n",
    "            nbIter = np.nanmax(gurobi['MTZNB'])\n",
    "            plt.scatter(n,gurobi['MTZ'], label=\"MTZ - a priori ({})\".format(nbIter))\n",
    "        plt.legend()\n",
    "        plt.xlabel(\"Nombre de sommets\", fontSize = tailleLabels)\n",
    "        ax = plt.ylabel(\"Temps de résolution (s)\", fontSize = tailleLabels)\n",
    "\n",
    "    "
   ]
  },
  {
   "cell_type": "markdown",
   "metadata": {},
   "source": [
    "Un travail d'intégration de l'**algorithme de Kosaraju** avait été commencé suite au rendu intermédiaire. Cet algorithme permet de vérifier la forte connexité d'un graphe, hypothèse essentielle pour l'existence d'un cycle hamiltonien. Ce travail ne sera pas terminé."
   ]
  },
  {
   "cell_type": "markdown",
   "metadata": {},
   "source": [
    "# Quelques exemples"
   ]
  },
  {
   "cell_type": "markdown",
   "metadata": {},
   "source": [
    "## Un commerçant français"
   ]
  },
  {
   "cell_type": "markdown",
   "metadata": {},
   "source": [
    "Cet exemple est tiré de deux sources différentes :\n",
    "- Le document \"voyageur de commerce\" du Projet [4 villes]\n",
    "- une formation de l'ISEN (école d'ingénieurs, Lille) [6 villes]\n",
    "\n",
    "La seconde source donnant simplement plus de données que la première. Les résultats étant connus, nous allons pouvoir ici **tester** nos algorithmes."
   ]
  },
  {
   "cell_type": "markdown",
   "metadata": {},
   "source": [
    "Les données concernent ici les distances (en km) entre les villes françaises suivantes :\n",
    "- Bordeaux\n",
    "- Nantes\n",
    "- Paris\n",
    "- Lyon\n",
    "- Montpellier\n",
    "- Dijon"
   ]
  },
  {
   "cell_type": "code",
   "execution_count": 11,
   "metadata": {},
   "outputs": [
    {
     "data": {
      "text/html": [
       "<div>\n",
       "<style scoped>\n",
       "    .dataframe tbody tr th:only-of-type {\n",
       "        vertical-align: middle;\n",
       "    }\n",
       "\n",
       "    .dataframe tbody tr th {\n",
       "        vertical-align: top;\n",
       "    }\n",
       "\n",
       "    .dataframe thead th {\n",
       "        text-align: right;\n",
       "    }\n",
       "</style>\n",
       "<table border=\"1\" class=\"dataframe\">\n",
       "  <thead>\n",
       "    <tr style=\"text-align: right;\">\n",
       "      <th></th>\n",
       "      <th>Bordeaux</th>\n",
       "      <th>Lyon</th>\n",
       "      <th>Nantes</th>\n",
       "      <th>Paris</th>\n",
       "      <th>Montpellier</th>\n",
       "      <th>Dijon</th>\n",
       "    </tr>\n",
       "  </thead>\n",
       "  <tbody>\n",
       "    <tr>\n",
       "      <td>Bordeaux</td>\n",
       "      <td>NaN</td>\n",
       "      <td>780.0</td>\n",
       "      <td>320.0</td>\n",
       "      <td>580.0</td>\n",
       "      <td>480.0</td>\n",
       "      <td>660.0</td>\n",
       "    </tr>\n",
       "    <tr>\n",
       "      <td>Lyon</td>\n",
       "      <td>780.0</td>\n",
       "      <td>NaN</td>\n",
       "      <td>700.0</td>\n",
       "      <td>460.0</td>\n",
       "      <td>300.0</td>\n",
       "      <td>200.0</td>\n",
       "    </tr>\n",
       "    <tr>\n",
       "      <td>Nantes</td>\n",
       "      <td>320.0</td>\n",
       "      <td>700.0</td>\n",
       "      <td>NaN</td>\n",
       "      <td>380.0</td>\n",
       "      <td>820.0</td>\n",
       "      <td>630.0</td>\n",
       "    </tr>\n",
       "    <tr>\n",
       "      <td>Paris</td>\n",
       "      <td>580.0</td>\n",
       "      <td>460.0</td>\n",
       "      <td>380.0</td>\n",
       "      <td>NaN</td>\n",
       "      <td>750.0</td>\n",
       "      <td>310.0</td>\n",
       "    </tr>\n",
       "    <tr>\n",
       "      <td>Montpellier</td>\n",
       "      <td>480.0</td>\n",
       "      <td>300.0</td>\n",
       "      <td>820.0</td>\n",
       "      <td>750.0</td>\n",
       "      <td>NaN</td>\n",
       "      <td>500.0</td>\n",
       "    </tr>\n",
       "    <tr>\n",
       "      <td>Dijon</td>\n",
       "      <td>660.0</td>\n",
       "      <td>200.0</td>\n",
       "      <td>630.0</td>\n",
       "      <td>310.0</td>\n",
       "      <td>500.0</td>\n",
       "      <td>NaN</td>\n",
       "    </tr>\n",
       "  </tbody>\n",
       "</table>\n",
       "</div>"
      ],
      "text/plain": [
       "             Bordeaux   Lyon  Nantes  Paris  Montpellier  Dijon\n",
       "Bordeaux          NaN  780.0   320.0  580.0        480.0  660.0\n",
       "Lyon            780.0    NaN   700.0  460.0        300.0  200.0\n",
       "Nantes          320.0  700.0     NaN  380.0        820.0  630.0\n",
       "Paris           580.0  460.0   380.0    NaN        750.0  310.0\n",
       "Montpellier     480.0  300.0   820.0  750.0          NaN  500.0\n",
       "Dijon           660.0  200.0   630.0  310.0        500.0    NaN"
      ]
     },
     "execution_count": 11,
     "metadata": {},
     "output_type": "execute_result"
    }
   ],
   "source": [
    "m = np.matrix([[np.nan,780,320,580,480,660],\n",
    "               [780,np.nan,700,460,300,200],\n",
    "               [320,700,np.nan,380,820,630],\n",
    "               [580,460,380,np.nan,750,310],\n",
    "               [480,300,820,750,np.nan,500],\n",
    "               [660,200,630,310,500,np.nan]])\n",
    "villes = [\"Bordeaux\",\"Lyon\",\"Nantes\",\"Paris\",\"Montpellier\",\"Dijon\"]\n",
    "dataF = pd.DataFrame(m, index = villes, columns = villes)\n",
    "dataF"
   ]
  },
  {
   "cell_type": "markdown",
   "metadata": {},
   "source": [
    "### Voyage dans 4 villes"
   ]
  },
  {
   "cell_type": "markdown",
   "metadata": {},
   "source": [
    "Ici nous allons nous restreindre à un voyage dans les villes Bordeaux, Nantes, Paris & Lyon."
   ]
  },
  {
   "attachments": {
    "Ex.%20document%20projet.png": {
     "image/png": "[encoded data removed]"
    }
   },
   "cell_type": "markdown",
   "metadata": {},
   "source": [
    "<div>\n",
    "<img src=\"attachment:Ex.%20document%20projet.png\" width=\"400\"/>\n",
    "</div>"
   ]
  },
  {
   "cell_type": "code",
   "execution_count": 12,
   "metadata": {},
   "outputs": [],
   "source": [
    "villes = [\"Bordeaux\",\"Lyon\",\"Nantes\",\"Paris\"]\n",
    "df1 = dataF.loc[villes,villes]\n",
    "del villes"
   ]
  },
  {
   "cell_type": "markdown",
   "metadata": {},
   "source": [
    "Le chemin le plus court (en commencant depuis Bordeaux par exemple) est\n",
    "**Bordeaux Nantes Paris Lyon Bordeaux**\n",
    "avec une distance de **1940** km."
   ]
  },
  {
   "cell_type": "markdown",
   "metadata": {},
   "source": [
    "En utilisant l'algorithme de *Little* :"
   ]
  },
  {
   "cell_type": "code",
   "execution_count": 13,
   "metadata": {},
   "outputs": [
    {
     "name": "stdout",
     "output_type": "stream",
     "text": [
      "cycle :  ['Bordeaux', 'Nantes', 'Paris', 'Lyon', 'Bordeaux']\n",
      "distance :  1940.0 km\n"
     ]
    }
   ],
   "source": [
    "l = Little(df1)\n",
    "out = l.solve()\n",
    "del l\n",
    "print(\"cycle : \", out[0])\n",
    "print(\"distance : \", out[1], \"km\")"
   ]
  },
  {
   "cell_type": "markdown",
   "metadata": {},
   "source": [
    "Ou en utilisant la programmation linéaire :"
   ]
  },
  {
   "cell_type": "code",
   "execution_count": 14,
   "metadata": {},
   "outputs": [
    {
     "name": "stdout",
     "output_type": "stream",
     "text": [
      "cycle :  ['Bordeaux', 'Lyon', 'Paris', 'Nantes', 'Bordeaux']\n",
      "distance :  1940.0 km\n"
     ]
    }
   ],
   "source": [
    "p = PL_voyage(df1)\n",
    "out = p.solve()\n",
    "del p, df1\n",
    "print(\"cycle : \", out[0])\n",
    "print(\"distance : \", out[1], \"km\")"
   ]
  },
  {
   "cell_type": "markdown",
   "metadata": {},
   "source": [
    "### Voyage dans 6 villes"
   ]
  },
  {
   "cell_type": "markdown",
   "metadata": {},
   "source": [
    "Cet exemple est l'exemple précédent mais avec deux villes supplémentaires (Montpellier et Dijon)."
   ]
  },
  {
   "cell_type": "markdown",
   "metadata": {},
   "source": [
    "Le chemin le plus court (en commencant depuis Paris) est **Paris Dijon Lyon Montpellier Bordeaux Nantes Paris** avec une distance de **1990** km."
   ]
  },
  {
   "cell_type": "markdown",
   "metadata": {},
   "source": [
    "On peut remarquer que malgré le nombre de villes visitées plus grand la distance ne change pas beaucoup de celle de l'exemple précédent."
   ]
  },
  {
   "cell_type": "markdown",
   "metadata": {},
   "source": [
    "En utilisant l'algorithme de *Little* :"
   ]
  },
  {
   "cell_type": "code",
   "execution_count": 15,
   "metadata": {},
   "outputs": [
    {
     "name": "stdout",
     "output_type": "stream",
     "text": [
      "cycle :  ['Paris', 'Dijon', 'Lyon', 'Montpellier', 'Bordeaux', 'Nantes', 'Paris']\n",
      "distance :  1990.0 km\n"
     ]
    }
   ],
   "source": [
    "l = Little(dataF)\n",
    "out = l.solve(\"Paris\")\n",
    "del l\n",
    "print(\"cycle : \", out[0])\n",
    "print(\"distance : \", out[1], \"km\")"
   ]
  },
  {
   "cell_type": "markdown",
   "metadata": {},
   "source": [
    "Ou en utilisant la programmation linéaire :\n",
    "\n",
    "(*Si cette opération ne fonctionne pas chez vous, retirez la variable 'solveur' ci-dessous*)"
   ]
  },
  {
   "cell_type": "code",
   "execution_count": 16,
   "metadata": {
    "scrolled": true
   },
   "outputs": [
    {
     "name": "stdout",
     "output_type": "stream",
     "text": [
      "cycle :  ['Paris', 'Nantes', 'Bordeaux', 'Montpellier', 'Lyon', 'Dijon', 'Paris']\n",
      "distance :  1990.0 km\n"
     ]
    }
   ],
   "source": [
    "p = PL_voyage(dataF)\n",
    "out = p.solve(\"Paris\",solv=gurobiSolv)\n",
    "del p, dataF\n",
    "print(\"cycle : \", out[0])\n",
    "print(\"distance : \", out[1], \"km\")"
   ]
  },
  {
   "cell_type": "markdown",
   "metadata": {},
   "source": [
    "## Le globe trotter"
   ]
  },
  {
   "cell_type": "markdown",
   "metadata": {},
   "source": [
    "Cet exemple a été imaginé par moi-même afin de prendre en compte un graphe orienté. Le modèle proposé est plus que discutable et sert uniquement à titre d'exemple / cas d'école."
   ]
  },
  {
   "cell_type": "markdown",
   "metadata": {},
   "source": [
    "Un globe-trotter français souhaite visiter 4 capitales différentes en partant de Paris :\n",
    "- Reykjavik (Islande)\n",
    "- Kuala Lumpur (Malaisie)\n",
    "- Sri Jayawardenapura Kotte (Sri Lanka)\n",
    "- Islamabad (Pakistan)\n",
    "\n",
    "Il a tout le temps qu'il souhaite pour faire son voyage. Cependant il souhaite **minimiser** l'argent qu'il mettra dans le transport. On suppose que le prix d'un billet de transport pour aller d'une capitale à une autre dépend :\n",
    "- de la distance entre les deux capitales\n",
    "- du PIB / habitant du pays **de départ** (d'où l'aspect orienté)"
   ]
  },
  {
   "cell_type": "markdown",
   "metadata": {},
   "source": [
    "Le prix (en €) d'un billet est donc modélisé par cette relation :\n",
    "\n",
    "$$prix = C * d * \\frac{P_{départ}}{P_{min}}$$\n",
    "Avec :\n",
    "- **C** le facteur de réduction ;\n",
    "- **d** la distance entre les deux capitales ;\n",
    "- $P_{départ}$ le PIB / habitant du pays de départ ;\n",
    "- $P_{min}$ le plus petit PIB / habitant dans le monde."
   ]
  },
  {
   "cell_type": "markdown",
   "metadata": {},
   "source": [
    "L'ensemble des données utilisées pour cet exemple ainsi que les sources se trouvent dans le fichier \"globe trotter.xlsx\".\n",
    "La matrice d'adjacence de ce problème est la suivante (les prix étant en €) :"
   ]
  },
  {
   "cell_type": "code",
   "execution_count": 17,
   "metadata": {
    "scrolled": true
   },
   "outputs": [
    {
     "data": {
      "text/html": [
       "<div>\n",
       "<style scoped>\n",
       "    .dataframe tbody tr th:only-of-type {\n",
       "        vertical-align: middle;\n",
       "    }\n",
       "\n",
       "    .dataframe tbody tr th {\n",
       "        vertical-align: top;\n",
       "    }\n",
       "\n",
       "    .dataframe thead th {\n",
       "        text-align: right;\n",
       "    }\n",
       "</style>\n",
       "<table border=\"1\" class=\"dataframe\">\n",
       "  <thead>\n",
       "    <tr style=\"text-align: right;\">\n",
       "      <th></th>\n",
       "      <th>France</th>\n",
       "      <th>Islande</th>\n",
       "      <th>Malaisie</th>\n",
       "      <th>Sri Lanka</th>\n",
       "      <th>Pakistan</th>\n",
       "    </tr>\n",
       "  </thead>\n",
       "  <tbody>\n",
       "    <tr>\n",
       "      <td>France</td>\n",
       "      <td>NaN</td>\n",
       "      <td>414.0</td>\n",
       "      <td>2007.0</td>\n",
       "      <td>1635.0</td>\n",
       "      <td>1135.0</td>\n",
       "    </tr>\n",
       "    <tr>\n",
       "      <td>Islande</td>\n",
       "      <td>495.0</td>\n",
       "      <td>NaN</td>\n",
       "      <td>1045.0</td>\n",
       "      <td>2225.0</td>\n",
       "      <td>1539.0</td>\n",
       "    </tr>\n",
       "    <tr>\n",
       "      <td>Malaisie</td>\n",
       "      <td>1331.0</td>\n",
       "      <td>579.0</td>\n",
       "      <td>NaN</td>\n",
       "      <td>313.0</td>\n",
       "      <td>579.0</td>\n",
       "    </tr>\n",
       "    <tr>\n",
       "      <td>Sri Lanka</td>\n",
       "      <td>488.0</td>\n",
       "      <td>554.0</td>\n",
       "      <td>141.0</td>\n",
       "      <td>NaN</td>\n",
       "      <td>175.0</td>\n",
       "    </tr>\n",
       "    <tr>\n",
       "      <td>Pakistan</td>\n",
       "      <td>139.0</td>\n",
       "      <td>158.0</td>\n",
       "      <td>107.0</td>\n",
       "      <td>72.0</td>\n",
       "      <td>NaN</td>\n",
       "    </tr>\n",
       "  </tbody>\n",
       "</table>\n",
       "</div>"
      ],
      "text/plain": [
       "           France  Islande  Malaisie  Sri Lanka  Pakistan\n",
       "France        NaN    414.0    2007.0     1635.0    1135.0\n",
       "Islande     495.0      NaN    1045.0     2225.0    1539.0\n",
       "Malaisie   1331.0    579.0       NaN      313.0     579.0\n",
       "Sri Lanka   488.0    554.0     141.0        NaN     175.0\n",
       "Pakistan    139.0    158.0     107.0       72.0       NaN"
      ]
     },
     "execution_count": 17,
     "metadata": {},
     "output_type": "execute_result"
    }
   ],
   "source": [
    "dataF = fileToDf(\"data/globe_trotter.txt\", False)\n",
    "dataF"
   ]
  },
  {
   "cell_type": "code",
   "execution_count": 18,
   "metadata": {},
   "outputs": [
    {
     "name": "stdout",
     "output_type": "stream",
     "text": [
      "Meilleur cycle :  ['France', 'Islande', 'Malaisie', 'Sri Lanka', 'Pakistan', 'France']\n",
      "Le globe trotteur paiera pour le transport 2086.0 €\n"
     ]
    }
   ],
   "source": [
    "l = Little(dataF)\n",
    "out = l.solve(\"France\")\n",
    "print(\"Meilleur cycle : \",out[0])\n",
    "print(\"Le globe trotteur paiera pour le transport {} €\".format(out[1]))"
   ]
  },
  {
   "cell_type": "code",
   "execution_count": 19,
   "metadata": {},
   "outputs": [
    {
     "name": "stdout",
     "output_type": "stream",
     "text": [
      "Meilleur cycle :  ['France', 'Islande', 'Malaisie', 'Sri Lanka', 'Pakistan', 'France']\n",
      "Le globe trotteur paiera pour le transport 2086.0 €\n"
     ]
    }
   ],
   "source": [
    "p = PL_voyage(dataF)\n",
    "out = p.solve(\"Paris\",solv=gurobiSolv)\n",
    "print(\"Meilleur cycle : \",out[0])\n",
    "print(\"Le globe trotteur paiera pour le transport {} €\".format(out[1]))"
   ]
  },
  {
   "cell_type": "markdown",
   "metadata": {},
   "source": [
    "# Tests d'efficacité"
   ]
  },
  {
   "cell_type": "markdown",
   "metadata": {},
   "source": [
    "Indique où se situe le répertoire de test. mettre \"\" si les fichiers sont à la racine."
   ]
  },
  {
   "cell_type": "code",
   "execution_count": 20,
   "metadata": {},
   "outputs": [],
   "source": [
    "repTest = \"tests/\""
   ]
  },
  {
   "cell_type": "markdown",
   "metadata": {},
   "source": [
    "Certains tests d'efficacité ont également été rédigés dans des fichiers .py . En effet j'ai pu remarquer que Jupyter ralentissait souvent les calculs et j'ai choisi de faire les \"gros calculs\" avec Anaconda Prompt / IPython."
   ]
  },
  {
   "cell_type": "markdown",
   "metadata": {},
   "source": [
    "## Comparaison Little - Programmation linéaire"
   ]
  },
  {
   "cell_type": "markdown",
   "metadata": {},
   "source": [
    "Dans cette première partie nous allons pouvoir observer l'évolution du temps d'évaluation des deux méthodes proposées (Little & Programmation Linéaire) et les comparer."
   ]
  },
  {
   "cell_type": "markdown",
   "metadata": {},
   "source": [
    "Pour ce test d'efficacité, on va utiliser un graphe recensant 16 villes bretonnes ou proche de la Bretagne via la fonction *filteToDf*. La pondération des arrêtes représente la distance à parcourir à pied pour aller d'un sommet à l'autre. Ces données ont été obtenues sur *Google Maps*. Le graphe est supposé non-orienté.\n",
    "\n",
    "La quantité de noeuds est ici petite car a priori l'algorithme de Little risque de ne pas pouvoir prendre en compte énormément de noeuds.\n",
    "\n",
    "Les résultats sont disponibles ci-dessous sous forme de graphiques. Les conclusions seront discutées **lors de l'oral**."
   ]
  },
  {
   "cell_type": "code",
   "execution_count": 21,
   "metadata": {
    "scrolled": true
   },
   "outputs": [
    {
     "data": {
      "text/html": [
       "<div>\n",
       "<style scoped>\n",
       "    .dataframe tbody tr th:only-of-type {\n",
       "        vertical-align: middle;\n",
       "    }\n",
       "\n",
       "    .dataframe tbody tr th {\n",
       "        vertical-align: top;\n",
       "    }\n",
       "\n",
       "    .dataframe thead th {\n",
       "        text-align: right;\n",
       "    }\n",
       "</style>\n",
       "<table border=\"1\" class=\"dataframe\">\n",
       "  <thead>\n",
       "    <tr style=\"text-align: right;\">\n",
       "      <th></th>\n",
       "      <th>Loudéac</th>\n",
       "      <th>Carhaix</th>\n",
       "      <th>Fougères</th>\n",
       "      <th>Vannes</th>\n",
       "      <th>Rennes</th>\n",
       "      <th>Nantes</th>\n",
       "      <th>Angers</th>\n",
       "    </tr>\n",
       "  </thead>\n",
       "  <tbody>\n",
       "    <tr>\n",
       "      <td>Loudéac</td>\n",
       "      <td>NaN</td>\n",
       "      <td>67.0</td>\n",
       "      <td>128.0</td>\n",
       "      <td>64.0</td>\n",
       "      <td>87.0</td>\n",
       "      <td>153.0</td>\n",
       "      <td>201.0</td>\n",
       "    </tr>\n",
       "    <tr>\n",
       "      <td>Carhaix</td>\n",
       "      <td>67.0</td>\n",
       "      <td>NaN</td>\n",
       "      <td>193.0</td>\n",
       "      <td>104.0</td>\n",
       "      <td>154.0</td>\n",
       "      <td>212.0</td>\n",
       "      <td>263.0</td>\n",
       "    </tr>\n",
       "    <tr>\n",
       "      <td>Fougères</td>\n",
       "      <td>128.0</td>\n",
       "      <td>193.0</td>\n",
       "      <td>NaN</td>\n",
       "      <td>151.0</td>\n",
       "      <td>47.0</td>\n",
       "      <td>142.0</td>\n",
       "      <td>120.0</td>\n",
       "    </tr>\n",
       "    <tr>\n",
       "      <td>Vannes</td>\n",
       "      <td>64.0</td>\n",
       "      <td>104.0</td>\n",
       "      <td>151.0</td>\n",
       "      <td>NaN</td>\n",
       "      <td>104.0</td>\n",
       "      <td>111.0</td>\n",
       "      <td>180.0</td>\n",
       "    </tr>\n",
       "    <tr>\n",
       "      <td>Rennes</td>\n",
       "      <td>87.0</td>\n",
       "      <td>154.0</td>\n",
       "      <td>47.0</td>\n",
       "      <td>104.0</td>\n",
       "      <td>NaN</td>\n",
       "      <td>111.0</td>\n",
       "      <td>121.0</td>\n",
       "    </tr>\n",
       "    <tr>\n",
       "      <td>Nantes</td>\n",
       "      <td>153.0</td>\n",
       "      <td>212.0</td>\n",
       "      <td>142.0</td>\n",
       "      <td>111.0</td>\n",
       "      <td>111.0</td>\n",
       "      <td>NaN</td>\n",
       "      <td>88.0</td>\n",
       "    </tr>\n",
       "    <tr>\n",
       "      <td>Angers</td>\n",
       "      <td>201.0</td>\n",
       "      <td>263.0</td>\n",
       "      <td>120.0</td>\n",
       "      <td>180.0</td>\n",
       "      <td>121.0</td>\n",
       "      <td>88.0</td>\n",
       "      <td>NaN</td>\n",
       "    </tr>\n",
       "  </tbody>\n",
       "</table>\n",
       "</div>"
      ],
      "text/plain": [
       "          Loudéac  Carhaix  Fougères  Vannes  Rennes  Nantes  Angers\n",
       "Loudéac       NaN     67.0     128.0    64.0    87.0   153.0   201.0\n",
       "Carhaix      67.0      NaN     193.0   104.0   154.0   212.0   263.0\n",
       "Fougères    128.0    193.0       NaN   151.0    47.0   142.0   120.0\n",
       "Vannes       64.0    104.0     151.0     NaN   104.0   111.0   180.0\n",
       "Rennes       87.0    154.0      47.0   104.0     NaN   111.0   121.0\n",
       "Nantes      153.0    212.0     142.0   111.0   111.0     NaN    88.0\n",
       "Angers      201.0    263.0     120.0   180.0   121.0    88.0     NaN"
      ]
     },
     "execution_count": 21,
     "metadata": {},
     "output_type": "execute_result"
    }
   ],
   "source": [
    "dataF = fileToDf(\"data/Villes_Bretagne.txt\",False)\n",
    "dataF.iloc[:7,:7]"
   ]
  },
  {
   "cell_type": "markdown",
   "metadata": {},
   "source": [
    "**Cette cellule, obligatoire pour la suite (comparaisons) peut prendre un peu de temps à être exécutée.**"
   ]
  },
  {
   "cell_type": "code",
   "execution_count": 22,
   "metadata": {
    "slideshow": {
     "slide_type": "slide"
    }
   },
   "outputs": [],
   "source": [
    "nLit = np.arange(4,len(dataF)+1) #Sert plus tard\n",
    "little = []\n",
    "t2 = []\n",
    "for i in nLit:\n",
    "    d = dataF.iloc[:i,:i]\n",
    "    l = Little(d)\n",
    "    p = PL_voyage(d)\n",
    "    s = time()\n",
    "    out = l.solve()\n",
    "    if out[0] == None:\n",
    "        print(\"Erreur sur Little\")\n",
    "    little += [time() - s]\n",
    "    s = time()\n",
    "    p.solve(solv=gurobiSolv)\n",
    "    t2 += [time() - s]\n",
    "    \n",
    "little = np.array(little) # Sert plus tard"
   ]
  },
  {
   "cell_type": "code",
   "execution_count": 23,
   "metadata": {},
   "outputs": [
    {
     "data": {
      "image/png": "[encoded data removed]",
      "text/plain": [
       "<Figure size 432x288 with 1 Axes>"
      ]
     },
     "metadata": {},
     "output_type": "display_data"
    }
   ],
   "source": [
    "fig = plt.figure()\n",
    "ax = plt.axes()\n",
    "plt.title(\"Complexité temporelle des algorithmes\", fontSize=20)\n",
    "plt.plot(nLit,little,linestyle=\"dashed\", label=\"Little\")\n",
    "plt.plot(nLit,t2,linestyle=\"dashed\", label=\"Prog. Linéaire (sc)\")\n",
    "plt.legend()\n",
    "plt.xlabel(\"Nombre de sommets\", fontSize=17)\n",
    "ax = plt.ylabel(\"Temps de résolution (s)\", fontsize=17)"
   ]
  },
  {
   "cell_type": "markdown",
   "metadata": {},
   "source": [
    "Ce que l'on peut remarquer :\n",
    "\n",
    "L'algorithme de Little nécessite bien plus rapidement du temps pour résoudre le problème du voyageur. On peut considérer qu'à partir de **15-16 noeuds**, ce dernier prendra trop de temps pour être utilisé. De plus, la programmation linéaire (PL) est à tout moment au moins égale si ce n'est **meilleure** en durée de résolution. La PL sera donc privilégiée par la suite, notamment pour faire des tests sur des graphes comportant plus de noeuds.\n",
    "L'algorithme de Little n'est cependant évidemment pas à jeter. Jusqu'à 10 noeuds environ les temps de résolution sont relativement équivalents (à échelle humaine). De plus le pseudo-code lié à cet algorithme est entièrement transparent (on peut savoir à chaque instant les calculs qui sont réalisés, et pourquoi ils le sont)."
   ]
  },
  {
   "cell_type": "markdown",
   "metadata": {},
   "source": [
    "## Etude et comparaison des protocoles \"PL\""
   ]
  },
  {
   "cell_type": "markdown",
   "metadata": {},
   "source": [
    "Ici nous allons observer et comparer l'efficacité des deux protocoles de Programmation Linéaire implémentés. Ces protocoles seront testés **sous CBC** puis **sous Gurobi**.\n",
    "\n",
    "D'après le test précédent, la programmation linéaire peut résister à un nombre bien plus élevé de noeuds que l'algorithme de Little. \n",
    "\n",
    "Afin de pouvoir avoir une vision correcte du fonctionnement des protocoles, nous allons réitérer plusieurs fois les différentes opérations en réalisant à chaque étape un graphe aléatoire.\n",
    "\n",
    "Les calculs prenant beaucoup de temps, l'idée a été d'enregistrer les données dans un fichier txt. Chaque fois que de nouveaux calculs sont fait ils sont rajoutés au fichier txt afin d'affiner les résultats (sauf exception)."
   ]
  },
  {
   "cell_type": "markdown",
   "metadata": {},
   "source": [
    "*Attention cela peut prendre du temps, certainement plusieurs minutes.* Pour cette raison, il est indiqué par défaut que le programme ne doit pas faire aucune itération (nbBoucles = 0) et donc simplement charger le fichier, s'il existe bien entendu. Mais vous pouvez très bien tester ces calculs en indiquant un nombre entier d'itérations à réaliser, et même changer les noeuds à étudier."
   ]
  },
  {
   "cell_type": "markdown",
   "metadata": {},
   "source": [
    "### Constance des résultats"
   ]
  },
  {
   "cell_type": "markdown",
   "metadata": {},
   "source": [
    "Afin de pouvoir utiliser plusieurs itérations nous voulons voir si la durée de résolution d'un problème fixé reste stable. Sinon l'intérêt de faire de nombreuses itérations avec des problèmes différents a peu d'intérêt. Pour ce faire nous allons faire de nombreuses itérations sur **un même problème** avec **un nombre de noeuds fixés**. Le test a été réalisé **200 fois** sur un graphe généré aléatoirement comportant **60 noeuds**.\n",
    "Pour réaliser de nouveau le test il suffit de mettre start. Il est à noter cependant qu'en cas de nouveau calcul les données précédentes seront effacées car ce graphe n'a d'intérêt qu'à problème fixé."
   ]
  },
  {
   "cell_type": "code",
   "execution_count": 24,
   "metadata": {},
   "outputs": [
    {
     "data": {
      "text/html": [
       "<div>\n",
       "<style scoped>\n",
       "    .dataframe tbody tr th:only-of-type {\n",
       "        vertical-align: middle;\n",
       "    }\n",
       "\n",
       "    .dataframe tbody tr th {\n",
       "        vertical-align: top;\n",
       "    }\n",
       "\n",
       "    .dataframe thead th {\n",
       "        text-align: right;\n",
       "    }\n",
       "</style>\n",
       "<table border=\"1\" class=\"dataframe\">\n",
       "  <thead>\n",
       "    <tr style=\"text-align: right;\">\n",
       "      <th></th>\n",
       "      <th>sc</th>\n",
       "      <th>MTZ</th>\n",
       "    </tr>\n",
       "  </thead>\n",
       "  <tbody>\n",
       "    <tr>\n",
       "      <td>moyenne (s)</td>\n",
       "      <td>2.778120</td>\n",
       "      <td>24.214215</td>\n",
       "    </tr>\n",
       "    <tr>\n",
       "      <td>écart-type (s)</td>\n",
       "      <td>0.268347</td>\n",
       "      <td>0.584327</td>\n",
       "    </tr>\n",
       "  </tbody>\n",
       "</table>\n",
       "</div>"
      ],
      "text/plain": [
       "                      sc        MTZ\n",
       "moyenne (s)     2.778120  24.214215\n",
       "écart-type (s)  0.268347   0.584327"
      ]
     },
     "execution_count": 24,
     "metadata": {},
     "output_type": "execute_result"
    },
    {
     "data": {
      "image/png": "[encoded data removed]",
      "text/plain": [
       "<Figure size 1080x360 with 2 Axes>"
      ]
     },
     "metadata": {},
     "output_type": "display_data"
    }
   ],
   "source": [
    "start = False\n",
    "\n",
    "nomF = repTest + \"test_constance_gurobi.txt\"\n",
    "\n",
    "if start:\n",
    "    n = [60]*200\n",
    "    if os.path.isfile(nomF):\n",
    "        os.remove(nomF)\n",
    "    open(nomF,\"w\").close()\n",
    "    nomF = test_temporel_PL(nomF,n,1,None, [\"sc\",\"MTZ\"],affichage=\"ratio\")\n",
    "\n",
    "\n",
    "data = lecture_fichier_PL(nomF,retourMoyenne=False)\n",
    "gurobi = data[2]\n",
    "fig = plt.figure(figsize=(15,5))\n",
    "\n",
    "fig.add_subplot(1,2,1)\n",
    "x = np.arange(1,len(gurobi['sc'])+1)\n",
    "mSC = np.mean(gurobi['sc'])\n",
    "sdSC = np.std(gurobi['sc'])\n",
    "plt.title(\"protocole sc\")\n",
    "plt.xlabel(\"N° itération\")\n",
    "plt.ylabel(\"Temps de résolution (s)\")\n",
    "plt.scatter(x,gurobi['sc'])\n",
    "plt.plot([1,len(gurobi['sc'])],[mSC,mSC], label=\"moyenne\",color='r')\n",
    "plot = plt.legend()\n",
    "\n",
    "\n",
    "fig.add_subplot(1,2,2)\n",
    "x = np.arange(1,len(gurobi['MTZ'])+1)\n",
    "mMTZ = np.mean(gurobi['MTZ'])\n",
    "sdMTZ = np.std(gurobi['MTZ'])\n",
    "plt.title(\"protocole MTZ\")\n",
    "plt.xlabel(\"N° itération\")\n",
    "plt.ylabel(\"Temps de résolution (s)\")\n",
    "plt.scatter(x,gurobi['MTZ'])\n",
    "plot = plt.plot([1,len(gurobi['MTZ'])],[mMTZ,mMTZ], label=\"moyenne\",color='r')\n",
    "plot = plt.legend()\n",
    "\n",
    "pd.DataFrame(np.array([[mSC,mMTZ],[sdSC,sdMTZ]]),\n",
    "             index=[\"moyenne (s)\",\"écart-type (s)\"], columns=[\"sc\", \"MTZ\"])"
   ]
  },
  {
   "cell_type": "markdown",
   "metadata": {},
   "source": [
    "A problème fixé le temps de résolution reste globalement autour de la moyenne (petit écart-type) ; pour les deux protocoles."
   ]
  },
  {
   "cell_type": "markdown",
   "metadata": {},
   "source": [
    "### Observation sur les solveurs et comparaison"
   ]
  },
  {
   "cell_type": "markdown",
   "metadata": {},
   "source": [
    "Pour commencer nous utiliserons des graphiques composés de **40 nœuds**, valeur plus élevée que celle réalisable via Little mais qui paraît appropriée pour une première évaluation."
   ]
  },
  {
   "cell_type": "markdown",
   "metadata": {},
   "source": [
    "*Initialisation des variables*"
   ]
  },
  {
   "cell_type": "code",
   "execution_count": 25,
   "metadata": {},
   "outputs": [],
   "source": [
    "nbNoeuds = 40\n",
    "nbBoucles = 0\n",
    "\n",
    "n = list(range(3,int(nbNoeuds / 2),3))\n",
    "while n[-1] + 5 < nbNoeuds:\n",
    "    n.append(n[-1] + 5)\n",
    "if nbNoeuds not in n:\n",
    "    n.append(nbNoeuds)\n",
    "    \n",
    "n = np.array(n)\n",
    "nomF = repTest + \"test_protocole_pl_\" + str(nbNoeuds) + \".txt\""
   ]
  },
  {
   "cell_type": "markdown",
   "metadata": {},
   "source": [
    "*Calcul de la ou des itérations*\n",
    "\n",
    "*Enregistrement dans un fichier .txt*"
   ]
  },
  {
   "cell_type": "code",
   "execution_count": 26,
   "metadata": {},
   "outputs": [
    {
     "name": "stdout",
     "output_type": "stream",
     "text": [
      "Données enregistrées dans le fichier : tests/test_protocole_pl_40.txt\n",
      "\n",
      "Terminé\n"
     ]
    }
   ],
   "source": [
    "nomF = test_temporel_PL(nomF,n,nbBoucles)\n",
    "del nbNoeuds, nbBoucles"
   ]
  },
  {
   "cell_type": "markdown",
   "metadata": {},
   "source": [
    "*Récupération de l'ensemble des données (temps moyen)*"
   ]
  },
  {
   "cell_type": "code",
   "execution_count": 27,
   "metadata": {},
   "outputs": [],
   "source": [
    "# Calcul du temps moyen\n",
    "data = lecture_fichier_PL(nomF)\n",
    "n = data[0]\n",
    "cbc = data[1]\n",
    "gurobi = data[2]"
   ]
  },
  {
   "cell_type": "markdown",
   "metadata": {},
   "source": [
    "*Affichage sous forme de nuage de points*"
   ]
  },
  {
   "cell_type": "code",
   "execution_count": 28,
   "metadata": {},
   "outputs": [
    {
     "name": "stdout",
     "output_type": "stream",
     "text": [
      "le nombre d'itérations pour chaque méthode est indiqué dans la légende.\n",
      "\n"
     ]
    },
    {
     "data": {
      "image/png": "[encoded data removed]",
      "text/plain": [
       "<Figure size 1440x504 with 2 Axes>"
      ]
     },
     "metadata": {},
     "output_type": "display_data"
    }
   ],
   "source": [
    "fig_PL(n,cbc,gurobi)"
   ]
  },
  {
   "cell_type": "code",
   "execution_count": 29,
   "metadata": {},
   "outputs": [
    {
     "name": "stdout",
     "output_type": "stream",
     "text": [
      "Temps moyen par nombre de noeuds (s)\n"
     ]
    },
    {
     "data": {
      "text/html": [
       "<div>\n",
       "<style scoped>\n",
       "    .dataframe tbody tr th:only-of-type {\n",
       "        vertical-align: middle;\n",
       "    }\n",
       "\n",
       "    .dataframe tbody tr th {\n",
       "        vertical-align: top;\n",
       "    }\n",
       "\n",
       "    .dataframe thead th {\n",
       "        text-align: right;\n",
       "    }\n",
       "</style>\n",
       "<table border=\"1\" class=\"dataframe\">\n",
       "  <thead>\n",
       "    <tr style=\"text-align: right;\">\n",
       "      <th></th>\n",
       "      <th>CBC</th>\n",
       "      <th>GUROBI</th>\n",
       "    </tr>\n",
       "  </thead>\n",
       "  <tbody>\n",
       "    <tr>\n",
       "      <td>sc</td>\n",
       "      <td>0.055493</td>\n",
       "      <td>0.025913</td>\n",
       "    </tr>\n",
       "    <tr>\n",
       "      <td>MTZ</td>\n",
       "      <td>0.092791</td>\n",
       "      <td>0.044720</td>\n",
       "    </tr>\n",
       "  </tbody>\n",
       "</table>\n",
       "</div>"
      ],
      "text/plain": [
       "          CBC    GUROBI\n",
       "sc   0.055493  0.025913\n",
       "MTZ  0.092791  0.044720"
      ]
     },
     "execution_count": 29,
     "metadata": {},
     "output_type": "execute_result"
    }
   ],
   "source": [
    "moyennes = pd.DataFrame(np.zeros((2,2)),index=[\"sc\",\"MTZ\"],columns=[\"CBC\",\"GUROBI\"])\n",
    "moyennes.loc[\"sc\",\"CBC\"] = np.mean(cbc['sc']/n)\n",
    "moyennes.loc[\"MTZ\",\"CBC\"] = np.mean(cbc['MTZ']/n)\n",
    "moyennes.loc[\"sc\",\"GUROBI\"] = np.mean(gurobi['sc']/n)\n",
    "moyennes.loc[\"MTZ\",\"GUROBI\"] = np.mean(gurobi['MTZ']/n)\n",
    "print(\"Temps moyen par nombre de noeuds (s)\")\n",
    "moyennes"
   ]
  },
  {
   "cell_type": "markdown",
   "metadata": {},
   "source": [
    "On peut déjà remarquer que le solveur CBC est beaucoup plus lent que GUROBI en moyenne. Afin de faire des tests avec plus de noeuds nous allons donc nous restreindre exclusivement à l'utilisation de **GUROBI**."
   ]
  },
  {
   "cell_type": "markdown",
   "metadata": {},
   "source": [
    "Il faut cependant faire attention aux conclusions du type \"le protocole MTZ est moins-bon que le protocole sc\". Même si c'est visiblement le cas ici, le nombre de sommets est assez petit. Etant donnés la nature des protocoles il sera plus judicieux de conclure ce genre de choses avec une plus grande quantité de noeuds."
   ]
  },
  {
   "cell_type": "markdown",
   "metadata": {},
   "source": [
    "*Initialisation des variables*"
   ]
  },
  {
   "cell_type": "code",
   "execution_count": 30,
   "metadata": {},
   "outputs": [],
   "source": [
    "nbNoeuds = 150\n",
    "nbBoucles = 0\n",
    "\n",
    "n = np.arange(10,nbNoeuds+1,10)\n",
    "nomF = repTest + \"test_gurobi_\" + str(nbNoeuds) + \".txt\""
   ]
  },
  {
   "cell_type": "markdown",
   "metadata": {},
   "source": [
    "*Calcul de la ou des itérations*\n",
    "\n",
    "*Enregistrement dans un fichier .txt*"
   ]
  },
  {
   "cell_type": "code",
   "execution_count": 31,
   "metadata": {
    "scrolled": true
   },
   "outputs": [
    {
     "name": "stdout",
     "output_type": "stream",
     "text": [
      "Données enregistrées dans le fichier : tests/test_gurobi_150.txt\n",
      "\n",
      "Terminé\n"
     ]
    }
   ],
   "source": [
    "test_temporel_PL(nomF,n,nbBoucles,None, ['sc','MTZ'])\n",
    "del nbNoeuds, nbBoucles"
   ]
  },
  {
   "cell_type": "markdown",
   "metadata": {},
   "source": [
    "*Récupération de l'ensemble des données (temps moyen)*"
   ]
  },
  {
   "cell_type": "code",
   "execution_count": 32,
   "metadata": {},
   "outputs": [],
   "source": [
    "# Calcul du temps moyen\n",
    "data = lecture_fichier_PL(nomF)\n",
    "n = data[0]\n",
    "gurobi = data[2]"
   ]
  },
  {
   "cell_type": "markdown",
   "metadata": {},
   "source": [
    "*Affichage sous forme de nuage de points*"
   ]
  },
  {
   "cell_type": "code",
   "execution_count": 33,
   "metadata": {
    "scrolled": true
   },
   "outputs": [
    {
     "name": "stdout",
     "output_type": "stream",
     "text": [
      "le nombre d'itérations pour chaque méthode est indiqué dans la légende.\n",
      "\n"
     ]
    },
    {
     "data": {
      "image/png": "[encoded data removed]",
      "text/plain": [
       "<Figure size 432x288 with 1 Axes>"
      ]
     },
     "metadata": {},
     "output_type": "display_data"
    }
   ],
   "source": [
    "fig_PL(n,None,gurobi)"
   ]
  },
  {
   "cell_type": "markdown",
   "metadata": {},
   "source": [
    "Ici la tendance change légèrement : en moyenne le protocole **MTZ** est plus rapide que le protocole **sc**. Ce qui semble assez raisonnable étant donné que plus il y a de noeuds, plus il y a de sous-cycle à supprimer (en *moyenne*).\n",
    "\n",
    "Il est à noter cependant qu'avec les données utilisées **peu de sous-cycles optimaux sont réalisables**, la génération aléatoire ne prenant pas vraiment compte de la logique des distances."
   ]
  },
  {
   "cell_type": "markdown",
   "metadata": {},
   "source": [
    "# Analyse et Hypothèses sur la complexité temporelle"
   ]
  },
  {
   "cell_type": "markdown",
   "metadata": {},
   "source": [
    "Maintenant que nous avons vu qualitativement comment se comportent les algorithmes sur une portion relativement importante (16 pour Little, 150 pour la PL) de noeuds, nous pouvons tenter quelques conjectures rapport à leur complexité temporelle."
   ]
  },
  {
   "cell_type": "markdown",
   "metadata": {},
   "source": [
    "Voyons ce qu'il se passe si l'on observe le log du temps de résolution :"
   ]
  },
  {
   "cell_type": "code",
   "execution_count": 34,
   "metadata": {},
   "outputs": [],
   "source": [
    "xLabl = \"Nombre de noeuds\"\n",
    "yLabl = \"ln(t)\"\n",
    "titre = \"Evolution logarithmique du temps de résolution\""
   ]
  },
  {
   "cell_type": "markdown",
   "metadata": {},
   "source": [
    "### Little"
   ]
  },
  {
   "cell_type": "markdown",
   "metadata": {},
   "source": [
    "Il est très important de noter ici que Little est un cas particulier. En effet on ne se base que sur une itération. Cependant l'algorithme de Little peut s'emballer rapidement (voir contre-exemple plus loin). Nous allons donc nous contenter de cette seule itération, en notant bien les conséquences que cela a sur les résultats."
   ]
  },
  {
   "cell_type": "code",
   "execution_count": 35,
   "metadata": {},
   "outputs": [
    {
     "data": {
      "image/png": "[encoded data removed]",
      "text/plain": [
       "<Figure size 432x360 with 1 Axes>"
      ]
     },
     "metadata": {},
     "output_type": "display_data"
    }
   ],
   "source": [
    "little = np.array(little)\n",
    "fig = plt.figure(figsize=(6,5))\n",
    "plt.title(titre + \" (Little)\")\n",
    "plt.xlabel(xLabl)\n",
    "plt.ylabel(yLabl)\n",
    "plt.scatter(nLit,np.log(little), label=\"Little\")\n",
    "\n",
    "regLit = LinearRegression()\n",
    "regLit.fit(nLit.reshape(-1,1), np.log(little))\n",
    "RsqLit = regLit.score(nLit.reshape(-1,1),np.log(little))\n",
    "coeffLit = regLit.coef_[0]\n",
    "plt.plot([4,16],regLit.intercept_ + np.array([4,16])*coeffLit,\n",
    "        label=\"Régr. Lin. : R² = \" + str(round(RsqLit,2)), color=\"red\")\n",
    "plot = plt.legend()"
   ]
  },
  {
   "cell_type": "markdown",
   "metadata": {},
   "source": [
    "### PL - SC"
   ]
  },
  {
   "cell_type": "code",
   "execution_count": 36,
   "metadata": {
    "scrolled": true
   },
   "outputs": [
    {
     "data": {
      "image/png": "[encoded data removed]",
      "text/plain": [
       "<Figure size 432x360 with 1 Axes>"
      ]
     },
     "metadata": {},
     "output_type": "display_data"
    }
   ],
   "source": [
    "fig = plt.figure(figsize=(6,5))\n",
    "plt.title(titre + \" (sc)\")\n",
    "plt.xlabel(xLabl)\n",
    "plt.ylabel(yLabl)\n",
    "plt.scatter(n,np.log(gurobi['sc']),label=\"sc\")\n",
    "\n",
    "regSC = LinearRegression()\n",
    "regSC.fit(n.reshape(-1,1),np.log(gurobi['sc']))\n",
    "RsqSC = regSC.score(n.reshape(-1,1),np.log(gurobi['sc']))\n",
    "coeffSC = regSC.coef_[0]\n",
    "plt.plot([0,max(n)],[regSC.intercept_,regSC.intercept_ + max(n)*coeffSC],\n",
    "        label=\"Régr. Lin. : R² = \" + str(round(RsqSC,2)), color=\"red\")\n",
    "plot = plt.legend()"
   ]
  },
  {
   "cell_type": "markdown",
   "metadata": {},
   "source": [
    "### PL - MTZ"
   ]
  },
  {
   "cell_type": "code",
   "execution_count": 37,
   "metadata": {},
   "outputs": [
    {
     "data": {
      "image/png": "[encoded data removed]",
      "text/plain": [
       "<Figure size 432x360 with 1 Axes>"
      ]
     },
     "metadata": {},
     "output_type": "display_data"
    }
   ],
   "source": [
    "fig = plt.figure(figsize=(6,5))\n",
    "plt.title(titre + \" (MTZ)\")\n",
    "plt.xlabel(xLabl)\n",
    "plt.ylabel(yLabl)\n",
    "plt.scatter(n,np.log(gurobi['MTZ']),label=\"MTZ\")\n",
    "\n",
    "regMTZ = LinearRegression()\n",
    "regMTZ.fit(n.reshape(-1,1),np.log(gurobi['MTZ']))\n",
    "RsqMTZ = regSC.score(n.reshape(-1,1),np.log(gurobi['MTZ']))\n",
    "coeffMTZ = regMTZ.coef_[0]\n",
    "plt.plot([0,max(n)],[regMTZ.intercept_,regMTZ.intercept_ + max(n)*coeffMTZ],\n",
    "        label=\"Régr. Lin. : R² = \" + str(round(RsqMTZ,2)), color=\"red\")\n",
    "plot = plt.legend()"
   ]
  },
  {
   "cell_type": "markdown",
   "metadata": {},
   "source": [
    "## Comparaison & Spéculations"
   ]
  },
  {
   "cell_type": "markdown",
   "metadata": {},
   "source": [
    "Les coefficients de Pearson sont suffisamment élevés dans chaque cas pour supposer que nous avons à faire à des **complexités temporelles exponentielles**."
   ]
  },
  {
   "cell_type": "markdown",
   "metadata": {},
   "source": [
    "On a pu l'observer sur les graphiques, certaines méthodes sont meilleures que d'autres. Via l'analyse précédente l'hypothèse d'une complexité exponentielle *maximale* de la forme $C.e^{k_i * n}$ semble viable ; avec $C > 0$ et $k_i$ dépendant de la méthode utilisée. Ces $k_i$ correspondant d'ailleurs dans notre modèle au coefficient directeur de la droite de régression linéaire. Ainsi :"
   ]
  },
  {
   "cell_type": "markdown",
   "metadata": {},
   "source": [
    "*Normalement le coefficient C dépend de chaque algorithme mais pour simplifier on pose $C = \\max{C_i}$*"
   ]
  },
  {
   "cell_type": "code",
   "execution_count": 38,
   "metadata": {},
   "outputs": [
    {
     "data": {
      "text/html": [
       "<div>\n",
       "<style scoped>\n",
       "    .dataframe tbody tr th:only-of-type {\n",
       "        vertical-align: middle;\n",
       "    }\n",
       "\n",
       "    .dataframe tbody tr th {\n",
       "        vertical-align: top;\n",
       "    }\n",
       "\n",
       "    .dataframe thead th {\n",
       "        text-align: right;\n",
       "    }\n",
       "</style>\n",
       "<table border=\"1\" class=\"dataframe\">\n",
       "  <thead>\n",
       "    <tr style=\"text-align: right;\">\n",
       "      <th></th>\n",
       "      <th>Little</th>\n",
       "      <th>SC</th>\n",
       "      <th>MTZ</th>\n",
       "    </tr>\n",
       "  </thead>\n",
       "  <tbody>\n",
       "    <tr>\n",
       "      <td>coefficient k</td>\n",
       "      <td>0.657931</td>\n",
       "      <td>0.043257</td>\n",
       "      <td>0.037229</td>\n",
       "    </tr>\n",
       "  </tbody>\n",
       "</table>\n",
       "</div>"
      ],
      "text/plain": [
       "                 Little        SC       MTZ\n",
       "coefficient k  0.657931  0.043257  0.037229"
      ]
     },
     "execution_count": 38,
     "metadata": {},
     "output_type": "execute_result"
    }
   ],
   "source": [
    "mat = np.array([coeffLit,coeffSC,coeffMTZ])\n",
    "df = pd.DataFrame(np.empty((1,3)),index=[\"coefficient k\"],columns=[\"Little\",\"SC\",\"MTZ\"])\n",
    "df.iloc[0,:] = mat\n",
    "df"
   ]
  },
  {
   "cell_type": "markdown",
   "metadata": {},
   "source": [
    "En prenant pour l'exemple C = 1, comparons les durées hypothétiques de résolution entre 3 et 200 noeuds :"
   ]
  },
  {
   "cell_type": "code",
   "execution_count": 39,
   "metadata": {},
   "outputs": [
    {
     "data": {
      "image/png": "[encoded data removed]",
      "text/plain": [
       "<Figure size 576x504 with 1 Axes>"
      ]
     },
     "metadata": {},
     "output_type": "display_data"
    }
   ],
   "source": [
    "C = 1\n",
    "fig = plt.figure(figsize=(8,7))\n",
    "noeuds = np.arange(3,175)\n",
    "hypLit = C*np.exp(coeffLit*noeuds)\n",
    "hypSC = C*np.exp(coeffSC*noeuds)\n",
    "hypMTZ = C*np.exp(coeffMTZ*noeuds)\n",
    "plt.plot(noeuds,hypLit,label=\"Little (Rappel : 1 it.)\")\n",
    "plt.plot(noeuds,hypSC,label=\"SC\")\n",
    "plt.plot(noeuds,hypMTZ,label=\"MTZ\")\n",
    "plt.ylim((0,1050))\n",
    "plot = plt.legend()\n",
    "plt.title(\"Complexité hypothétique des différentes méthodes\")\n",
    "plt.xlabel(\"nombre de nœuds\")\n",
    "plot = plt.ylabel(\"Temps de résolution (s)\")"
   ]
  },
  {
   "cell_type": "markdown",
   "metadata": {},
   "source": [
    "## Contre-exemple et mise en garde"
   ]
  },
  {
   "cell_type": "markdown",
   "metadata": {},
   "source": [
    "A partir du résultat précédent on pourrait hâtivement conclure que :\n",
    "- L'algorithme de Little est valable jusque 15-16 noeuds\n",
    "- La PLNE est bien meilleure que l'algorithme de Little\n",
    "- Le protocole MTZ est meilleur que le protocole SC, surtout à partir de 75 noeuds."
   ]
  },
  {
   "cell_type": "markdown",
   "metadata": {},
   "source": [
    "Même si la vérité s'approche de cela, il faut bien se rappeler que nous avons utilisé peu d'itérations (une seule à vrai dire) pour l'algorithme de Little, ce dernier étant très coûteux en temps et explosant rapidement (impossible de déterminer le temps pour 50 noeuds par exemple). Il est aussi important de noter que dans les graphes générés aléatoirement pour tester la P.L., il est peu probable que des sous-cycles soient générés alors que dans la réalité il y en a souvent bien plus. "
   ]
  },
  {
   "cell_type": "markdown",
   "metadata": {},
   "source": [
    "Ces différentes mises en gardes s'expriment plutôt bien dans un exemple intitulé **br17** (17 noeuds) et modélisé par la matrice d'adjacence suivante :"
   ]
  },
  {
   "cell_type": "code",
   "execution_count": 40,
   "metadata": {},
   "outputs": [
    {
     "data": {
      "text/html": [
       "<div>\n",
       "<style scoped>\n",
       "    .dataframe tbody tr th:only-of-type {\n",
       "        vertical-align: middle;\n",
       "    }\n",
       "\n",
       "    .dataframe tbody tr th {\n",
       "        vertical-align: top;\n",
       "    }\n",
       "\n",
       "    .dataframe thead th {\n",
       "        text-align: right;\n",
       "    }\n",
       "</style>\n",
       "<table border=\"1\" class=\"dataframe\">\n",
       "  <thead>\n",
       "    <tr style=\"text-align: right;\">\n",
       "      <th></th>\n",
       "      <th>0</th>\n",
       "      <th>1</th>\n",
       "      <th>2</th>\n",
       "      <th>3</th>\n",
       "      <th>4</th>\n",
       "      <th>5</th>\n",
       "      <th>6</th>\n",
       "      <th>7</th>\n",
       "      <th>8</th>\n",
       "      <th>9</th>\n",
       "      <th>10</th>\n",
       "      <th>11</th>\n",
       "      <th>12</th>\n",
       "      <th>13</th>\n",
       "      <th>14</th>\n",
       "      <th>15</th>\n",
       "      <th>16</th>\n",
       "    </tr>\n",
       "  </thead>\n",
       "  <tbody>\n",
       "    <tr>\n",
       "      <td>0</td>\n",
       "      <td>NaN</td>\n",
       "      <td>3.0</td>\n",
       "      <td>5.0</td>\n",
       "      <td>48.0</td>\n",
       "      <td>48.0</td>\n",
       "      <td>8.0</td>\n",
       "      <td>8.0</td>\n",
       "      <td>5.0</td>\n",
       "      <td>5.0</td>\n",
       "      <td>3.0</td>\n",
       "      <td>3.0</td>\n",
       "      <td>0.0</td>\n",
       "      <td>3.0</td>\n",
       "      <td>5.0</td>\n",
       "      <td>8.0</td>\n",
       "      <td>8.0</td>\n",
       "      <td>5.0</td>\n",
       "    </tr>\n",
       "    <tr>\n",
       "      <td>1</td>\n",
       "      <td>3.0</td>\n",
       "      <td>NaN</td>\n",
       "      <td>3.0</td>\n",
       "      <td>48.0</td>\n",
       "      <td>48.0</td>\n",
       "      <td>8.0</td>\n",
       "      <td>8.0</td>\n",
       "      <td>5.0</td>\n",
       "      <td>5.0</td>\n",
       "      <td>0.0</td>\n",
       "      <td>0.0</td>\n",
       "      <td>3.0</td>\n",
       "      <td>0.0</td>\n",
       "      <td>3.0</td>\n",
       "      <td>8.0</td>\n",
       "      <td>8.0</td>\n",
       "      <td>5.0</td>\n",
       "    </tr>\n",
       "    <tr>\n",
       "      <td>2</td>\n",
       "      <td>5.0</td>\n",
       "      <td>3.0</td>\n",
       "      <td>NaN</td>\n",
       "      <td>72.0</td>\n",
       "      <td>72.0</td>\n",
       "      <td>48.0</td>\n",
       "      <td>48.0</td>\n",
       "      <td>24.0</td>\n",
       "      <td>24.0</td>\n",
       "      <td>3.0</td>\n",
       "      <td>3.0</td>\n",
       "      <td>5.0</td>\n",
       "      <td>3.0</td>\n",
       "      <td>0.0</td>\n",
       "      <td>48.0</td>\n",
       "      <td>48.0</td>\n",
       "      <td>24.0</td>\n",
       "    </tr>\n",
       "    <tr>\n",
       "      <td>3</td>\n",
       "      <td>48.0</td>\n",
       "      <td>48.0</td>\n",
       "      <td>74.0</td>\n",
       "      <td>NaN</td>\n",
       "      <td>0.0</td>\n",
       "      <td>6.0</td>\n",
       "      <td>6.0</td>\n",
       "      <td>12.0</td>\n",
       "      <td>12.0</td>\n",
       "      <td>48.0</td>\n",
       "      <td>48.0</td>\n",
       "      <td>48.0</td>\n",
       "      <td>48.0</td>\n",
       "      <td>74.0</td>\n",
       "      <td>6.0</td>\n",
       "      <td>6.0</td>\n",
       "      <td>12.0</td>\n",
       "    </tr>\n",
       "    <tr>\n",
       "      <td>4</td>\n",
       "      <td>48.0</td>\n",
       "      <td>48.0</td>\n",
       "      <td>74.0</td>\n",
       "      <td>0.0</td>\n",
       "      <td>NaN</td>\n",
       "      <td>6.0</td>\n",
       "      <td>6.0</td>\n",
       "      <td>12.0</td>\n",
       "      <td>12.0</td>\n",
       "      <td>48.0</td>\n",
       "      <td>48.0</td>\n",
       "      <td>48.0</td>\n",
       "      <td>48.0</td>\n",
       "      <td>74.0</td>\n",
       "      <td>6.0</td>\n",
       "      <td>6.0</td>\n",
       "      <td>12.0</td>\n",
       "    </tr>\n",
       "    <tr>\n",
       "      <td>5</td>\n",
       "      <td>8.0</td>\n",
       "      <td>8.0</td>\n",
       "      <td>50.0</td>\n",
       "      <td>6.0</td>\n",
       "      <td>6.0</td>\n",
       "      <td>NaN</td>\n",
       "      <td>0.0</td>\n",
       "      <td>8.0</td>\n",
       "      <td>8.0</td>\n",
       "      <td>8.0</td>\n",
       "      <td>8.0</td>\n",
       "      <td>8.0</td>\n",
       "      <td>8.0</td>\n",
       "      <td>50.0</td>\n",
       "      <td>0.0</td>\n",
       "      <td>0.0</td>\n",
       "      <td>8.0</td>\n",
       "    </tr>\n",
       "    <tr>\n",
       "      <td>6</td>\n",
       "      <td>8.0</td>\n",
       "      <td>8.0</td>\n",
       "      <td>50.0</td>\n",
       "      <td>6.0</td>\n",
       "      <td>6.0</td>\n",
       "      <td>0.0</td>\n",
       "      <td>NaN</td>\n",
       "      <td>8.0</td>\n",
       "      <td>8.0</td>\n",
       "      <td>8.0</td>\n",
       "      <td>8.0</td>\n",
       "      <td>8.0</td>\n",
       "      <td>8.0</td>\n",
       "      <td>50.0</td>\n",
       "      <td>0.0</td>\n",
       "      <td>0.0</td>\n",
       "      <td>8.0</td>\n",
       "    </tr>\n",
       "    <tr>\n",
       "      <td>7</td>\n",
       "      <td>5.0</td>\n",
       "      <td>5.0</td>\n",
       "      <td>26.0</td>\n",
       "      <td>12.0</td>\n",
       "      <td>12.0</td>\n",
       "      <td>8.0</td>\n",
       "      <td>8.0</td>\n",
       "      <td>NaN</td>\n",
       "      <td>0.0</td>\n",
       "      <td>5.0</td>\n",
       "      <td>5.0</td>\n",
       "      <td>5.0</td>\n",
       "      <td>5.0</td>\n",
       "      <td>26.0</td>\n",
       "      <td>8.0</td>\n",
       "      <td>8.0</td>\n",
       "      <td>0.0</td>\n",
       "    </tr>\n",
       "    <tr>\n",
       "      <td>8</td>\n",
       "      <td>5.0</td>\n",
       "      <td>5.0</td>\n",
       "      <td>26.0</td>\n",
       "      <td>12.0</td>\n",
       "      <td>12.0</td>\n",
       "      <td>8.0</td>\n",
       "      <td>8.0</td>\n",
       "      <td>0.0</td>\n",
       "      <td>NaN</td>\n",
       "      <td>5.0</td>\n",
       "      <td>5.0</td>\n",
       "      <td>5.0</td>\n",
       "      <td>5.0</td>\n",
       "      <td>26.0</td>\n",
       "      <td>8.0</td>\n",
       "      <td>8.0</td>\n",
       "      <td>0.0</td>\n",
       "    </tr>\n",
       "    <tr>\n",
       "      <td>9</td>\n",
       "      <td>3.0</td>\n",
       "      <td>0.0</td>\n",
       "      <td>3.0</td>\n",
       "      <td>48.0</td>\n",
       "      <td>48.0</td>\n",
       "      <td>8.0</td>\n",
       "      <td>8.0</td>\n",
       "      <td>5.0</td>\n",
       "      <td>5.0</td>\n",
       "      <td>NaN</td>\n",
       "      <td>0.0</td>\n",
       "      <td>3.0</td>\n",
       "      <td>0.0</td>\n",
       "      <td>3.0</td>\n",
       "      <td>8.0</td>\n",
       "      <td>8.0</td>\n",
       "      <td>5.0</td>\n",
       "    </tr>\n",
       "    <tr>\n",
       "      <td>10</td>\n",
       "      <td>3.0</td>\n",
       "      <td>0.0</td>\n",
       "      <td>3.0</td>\n",
       "      <td>48.0</td>\n",
       "      <td>48.0</td>\n",
       "      <td>8.0</td>\n",
       "      <td>8.0</td>\n",
       "      <td>5.0</td>\n",
       "      <td>5.0</td>\n",
       "      <td>0.0</td>\n",
       "      <td>NaN</td>\n",
       "      <td>3.0</td>\n",
       "      <td>0.0</td>\n",
       "      <td>3.0</td>\n",
       "      <td>8.0</td>\n",
       "      <td>8.0</td>\n",
       "      <td>5.0</td>\n",
       "    </tr>\n",
       "    <tr>\n",
       "      <td>11</td>\n",
       "      <td>0.0</td>\n",
       "      <td>3.0</td>\n",
       "      <td>5.0</td>\n",
       "      <td>48.0</td>\n",
       "      <td>48.0</td>\n",
       "      <td>8.0</td>\n",
       "      <td>8.0</td>\n",
       "      <td>5.0</td>\n",
       "      <td>5.0</td>\n",
       "      <td>3.0</td>\n",
       "      <td>3.0</td>\n",
       "      <td>NaN</td>\n",
       "      <td>3.0</td>\n",
       "      <td>5.0</td>\n",
       "      <td>8.0</td>\n",
       "      <td>8.0</td>\n",
       "      <td>5.0</td>\n",
       "    </tr>\n",
       "    <tr>\n",
       "      <td>12</td>\n",
       "      <td>3.0</td>\n",
       "      <td>0.0</td>\n",
       "      <td>3.0</td>\n",
       "      <td>48.0</td>\n",
       "      <td>48.0</td>\n",
       "      <td>8.0</td>\n",
       "      <td>8.0</td>\n",
       "      <td>5.0</td>\n",
       "      <td>5.0</td>\n",
       "      <td>0.0</td>\n",
       "      <td>0.0</td>\n",
       "      <td>3.0</td>\n",
       "      <td>NaN</td>\n",
       "      <td>3.0</td>\n",
       "      <td>8.0</td>\n",
       "      <td>8.0</td>\n",
       "      <td>5.0</td>\n",
       "    </tr>\n",
       "    <tr>\n",
       "      <td>13</td>\n",
       "      <td>5.0</td>\n",
       "      <td>3.0</td>\n",
       "      <td>0.0</td>\n",
       "      <td>72.0</td>\n",
       "      <td>72.0</td>\n",
       "      <td>48.0</td>\n",
       "      <td>48.0</td>\n",
       "      <td>24.0</td>\n",
       "      <td>24.0</td>\n",
       "      <td>3.0</td>\n",
       "      <td>3.0</td>\n",
       "      <td>5.0</td>\n",
       "      <td>3.0</td>\n",
       "      <td>NaN</td>\n",
       "      <td>48.0</td>\n",
       "      <td>48.0</td>\n",
       "      <td>24.0</td>\n",
       "    </tr>\n",
       "    <tr>\n",
       "      <td>14</td>\n",
       "      <td>8.0</td>\n",
       "      <td>8.0</td>\n",
       "      <td>50.0</td>\n",
       "      <td>6.0</td>\n",
       "      <td>6.0</td>\n",
       "      <td>0.0</td>\n",
       "      <td>0.0</td>\n",
       "      <td>8.0</td>\n",
       "      <td>8.0</td>\n",
       "      <td>8.0</td>\n",
       "      <td>8.0</td>\n",
       "      <td>8.0</td>\n",
       "      <td>8.0</td>\n",
       "      <td>50.0</td>\n",
       "      <td>NaN</td>\n",
       "      <td>0.0</td>\n",
       "      <td>8.0</td>\n",
       "    </tr>\n",
       "    <tr>\n",
       "      <td>15</td>\n",
       "      <td>8.0</td>\n",
       "      <td>8.0</td>\n",
       "      <td>50.0</td>\n",
       "      <td>6.0</td>\n",
       "      <td>6.0</td>\n",
       "      <td>0.0</td>\n",
       "      <td>0.0</td>\n",
       "      <td>8.0</td>\n",
       "      <td>8.0</td>\n",
       "      <td>8.0</td>\n",
       "      <td>8.0</td>\n",
       "      <td>8.0</td>\n",
       "      <td>8.0</td>\n",
       "      <td>50.0</td>\n",
       "      <td>0.0</td>\n",
       "      <td>NaN</td>\n",
       "      <td>8.0</td>\n",
       "    </tr>\n",
       "    <tr>\n",
       "      <td>16</td>\n",
       "      <td>5.0</td>\n",
       "      <td>5.0</td>\n",
       "      <td>26.0</td>\n",
       "      <td>12.0</td>\n",
       "      <td>12.0</td>\n",
       "      <td>8.0</td>\n",
       "      <td>8.0</td>\n",
       "      <td>0.0</td>\n",
       "      <td>0.0</td>\n",
       "      <td>5.0</td>\n",
       "      <td>5.0</td>\n",
       "      <td>5.0</td>\n",
       "      <td>5.0</td>\n",
       "      <td>26.0</td>\n",
       "      <td>8.0</td>\n",
       "      <td>8.0</td>\n",
       "      <td>NaN</td>\n",
       "    </tr>\n",
       "  </tbody>\n",
       "</table>\n",
       "</div>"
      ],
      "text/plain": [
       "       0     1     2     3     4     5     6     7     8     9    10    11  \\\n",
       "0    NaN   3.0   5.0  48.0  48.0   8.0   8.0   5.0   5.0   3.0   3.0   0.0   \n",
       "1    3.0   NaN   3.0  48.0  48.0   8.0   8.0   5.0   5.0   0.0   0.0   3.0   \n",
       "2    5.0   3.0   NaN  72.0  72.0  48.0  48.0  24.0  24.0   3.0   3.0   5.0   \n",
       "3   48.0  48.0  74.0   NaN   0.0   6.0   6.0  12.0  12.0  48.0  48.0  48.0   \n",
       "4   48.0  48.0  74.0   0.0   NaN   6.0   6.0  12.0  12.0  48.0  48.0  48.0   \n",
       "5    8.0   8.0  50.0   6.0   6.0   NaN   0.0   8.0   8.0   8.0   8.0   8.0   \n",
       "6    8.0   8.0  50.0   6.0   6.0   0.0   NaN   8.0   8.0   8.0   8.0   8.0   \n",
       "7    5.0   5.0  26.0  12.0  12.0   8.0   8.0   NaN   0.0   5.0   5.0   5.0   \n",
       "8    5.0   5.0  26.0  12.0  12.0   8.0   8.0   0.0   NaN   5.0   5.0   5.0   \n",
       "9    3.0   0.0   3.0  48.0  48.0   8.0   8.0   5.0   5.0   NaN   0.0   3.0   \n",
       "10   3.0   0.0   3.0  48.0  48.0   8.0   8.0   5.0   5.0   0.0   NaN   3.0   \n",
       "11   0.0   3.0   5.0  48.0  48.0   8.0   8.0   5.0   5.0   3.0   3.0   NaN   \n",
       "12   3.0   0.0   3.0  48.0  48.0   8.0   8.0   5.0   5.0   0.0   0.0   3.0   \n",
       "13   5.0   3.0   0.0  72.0  72.0  48.0  48.0  24.0  24.0   3.0   3.0   5.0   \n",
       "14   8.0   8.0  50.0   6.0   6.0   0.0   0.0   8.0   8.0   8.0   8.0   8.0   \n",
       "15   8.0   8.0  50.0   6.0   6.0   0.0   0.0   8.0   8.0   8.0   8.0   8.0   \n",
       "16   5.0   5.0  26.0  12.0  12.0   8.0   8.0   0.0   0.0   5.0   5.0   5.0   \n",
       "\n",
       "      12    13    14    15    16  \n",
       "0    3.0   5.0   8.0   8.0   5.0  \n",
       "1    0.0   3.0   8.0   8.0   5.0  \n",
       "2    3.0   0.0  48.0  48.0  24.0  \n",
       "3   48.0  74.0   6.0   6.0  12.0  \n",
       "4   48.0  74.0   6.0   6.0  12.0  \n",
       "5    8.0  50.0   0.0   0.0   8.0  \n",
       "6    8.0  50.0   0.0   0.0   8.0  \n",
       "7    5.0  26.0   8.0   8.0   0.0  \n",
       "8    5.0  26.0   8.0   8.0   0.0  \n",
       "9    0.0   3.0   8.0   8.0   5.0  \n",
       "10   0.0   3.0   8.0   8.0   5.0  \n",
       "11   3.0   5.0   8.0   8.0   5.0  \n",
       "12   NaN   3.0   8.0   8.0   5.0  \n",
       "13   3.0   NaN  48.0  48.0  24.0  \n",
       "14   8.0  50.0   NaN   0.0   8.0  \n",
       "15   8.0  50.0   0.0   NaN   8.0  \n",
       "16   5.0  26.0   8.0   8.0   NaN  "
      ]
     },
     "execution_count": 40,
     "metadata": {},
     "output_type": "execute_result"
    }
   ],
   "source": [
    "m = np.matrix([[np.nan,3,5,48,48,8,8,5,5,3,3,0,3,5,8,8,5],\n",
    "                [3,np.nan,3,48,48,8,8,5,5,0,0,3,0,3,8,8,5],\n",
    "                [5,3,np.nan,72,72,48,48,24,24,3,3,5,3,0,48,48,24],\n",
    "                [48,48,74,np.nan,0,6,6,12,12,48,48,48,48,74,6,6,12],\n",
    "                [48,48,74,0,np.nan,6,6,12,12,48,48,48,48,74,6,6,12],\n",
    "                [8,8,50,6,6,np.nan,0,8,8,8,8,8,8,50,0,0,8],\n",
    "                [8,8,50,6,6,0,np.nan,8,8,8,8,8,8,50,0,0,8],\n",
    "                [5,5,26,12,12,8,8,np.nan,0,5,5,5,5,26,8,8,0],\n",
    "                [5,5,26,12,12,8,8,0,np.nan,5,5,5,5,26,8,8,0],\n",
    "                [3,0,3,48,48,8,8,5,5,np.nan,0,3,0,3,8,8,5],\n",
    "                [3,0,3,48,48,8,8,5,5,0,np.nan,3,0,3,8,8,5],\n",
    "                [0,3,5,48,48,8,8,5,5,3,3,np.nan,3,5,8,8,5],\n",
    "                [3,0,3,48,48,8,8,5,5,0,0,3,np.nan,3,8,8,5],\n",
    "                [5,3,0,72,72,48,48,24,24,3,3,5,3,np.nan,48,48,24],\n",
    "                [8,8,50,6,6,0,0,8,8,8,8,8,8,50,np.nan,0,8],\n",
    "                [8,8,50,6,6,0,0,8,8,8,8,8,8,50,0,np.nan,8],\n",
    "                [5,5,26,12,12,8,8,0,0,5,5,5,5,26,8,8,np.nan]])\n",
    "\n",
    "dataF = pd.DataFrame(m)\n",
    "dataF"
   ]
  },
  {
   "cell_type": "markdown",
   "metadata": {},
   "source": [
    "Cet exemple est assez particulier et permet de bien mettre en évidence les avantages et inconvénients des méthodes proposées. En effet, si nous tentons de résoudre le problème avec Little, il faudra attendre plus que très longtemps (pour 12 noeuds nous sommes par exemple à 1 minute). De même si l'on utilise la P.L. avec le protocole SC la durée sera très grande également. Cependant, avec le protocole MTZ, le résultat est obtenu en quelques secondes avec Gurobi (39 km)."
   ]
  },
  {
   "cell_type": "markdown",
   "metadata": {},
   "source": [
    "Ce graphe a de particulier que tous les chemins se valent (tous les cycles hamiltoniens sont de même longueur, ou presque) ; et de nombreux sous-cycles existent.\n",
    "Pour Little, tous les chemins seront donc testés [(n-1)! chemins]\n",
    "Avec le protocole \"SC\", il faudra redémarrer de nombreuses fois le solveur car il existe énormément de sous-cycles.\n",
    "Le protocole \"MTZ\" sera dont très intéressant ici car il éliminera tous les sous-cycles dès le départ. Donnant ainsi le résultat attendu très rapidement."
   ]
  },
  {
   "cell_type": "markdown",
   "metadata": {},
   "source": [
    "**Attention : CBC n'a pas l'air d'apprécier grandement ce problème, pour une raison inconnue. Gurobi réagit beaucoup mieux.**"
   ]
  },
  {
   "cell_type": "code",
   "execution_count": 41,
   "metadata": {},
   "outputs": [
    {
     "name": "stdout",
     "output_type": "stream",
     "text": [
      "Distance 39.0 km, résolu en 0.799 s\n"
     ]
    }
   ],
   "source": [
    "if True:\n",
    "    p = PL_voyage(dataF)\n",
    "    s = time()\n",
    "    out,dist = p.solve(protocole=\"MTZ\",solv=gurobiSolv)\n",
    "    print(\"Distance {} km, résolu en {} s\".format(dist,round(time() - s,3)))"
   ]
  },
  {
   "cell_type": "markdown",
   "metadata": {},
   "source": [
    "# Bibliographie"
   ]
  },
  {
   "cell_type": "markdown",
   "metadata": {},
   "source": [
    "- *Algorithmes sur les Graphes*, Département Informatique, ISEN Lille\n",
    "- *Modélisation du problème du voyageur de commerce*, Alain FAYE, ENSIIE\n",
    "- *TSPLib*, ATSP br17 problem"
   ]
  }
 ],
 "metadata": {
  "@webio": {
   "lastCommId": null,
   "lastKernelId": null
  },
  "kernelspec": {
   "display_name": "Python 3",
   "language": "python",
   "name": "python3"
  },
  "language_info": {
   "codemirror_mode": {
    "name": "ipython",
    "version": 3
   },
   "file_extension": ".py",
   "mimetype": "text/x-python",
   "name": "python",
   "nbconvert_exporter": "python",
   "pygments_lexer": "ipython3",
   "version": "3.7.6"
  }
 },
 "nbformat": 4,
 "nbformat_minor": 4
}
